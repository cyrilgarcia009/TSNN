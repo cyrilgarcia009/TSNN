{
 "cells": [
  {
   "cell_type": "markdown",
   "id": "e4d4e4970fda3f8e",
   "metadata": {},
   "source": [
    "# TSNN examples"
   ]
  },
  {
   "cell_type": "markdown",
   "id": "d0fc05c4-6004-4b9b-8aee-c5fe1c790a26",
   "metadata": {},
   "source": [
    "## Summary\n",
    "\n",
    "- In narrow format, both lin reg and fully connected manage to capture a linear effect between features and target. A linear regression will always be better in this case since this is constrained to be exactly the function of the ground truth\n"
   ]
  },
  {
   "cell_type": "code",
   "execution_count": 1,
   "id": "e7d379e75a98c686",
   "metadata": {
    "ExecuteTime": {
     "end_time": "2025-10-30T02:29:18.502605Z",
     "start_time": "2025-10-30T02:29:18.248368Z"
    },
    "tags": []
   },
   "outputs": [],
   "source": [
    "%load_ext autoreload\n",
    "%autoreload 2\n",
    "\n",
    "import matplotlib.pyplot as plt\n",
    "import pandas as pd\n",
    "import numpy as np\n",
    "from sklearn.linear_model import LassoCV, RidgeCV, LinearRegression\n",
    "import torch\n",
    "from torch.utils.data import Dataset, random_split\n",
    "from torch.utils.data import DataLoader\n",
    "import importlib\n",
    "import sys\n",
    "sys.path.append('/Users/cyrilgarcia/notebooks/tsnn/')\n",
    "\n",
    "import tsnn\n",
    "\n",
    "from tsnn.generators import generators\n",
    "from tsnn.benchmarks import benchmark_comparison, ml_benchmarks, torch_benchmarks\n",
    "from tsnn import utils\n",
    "\n",
    "plt.style.use('ggplot')"
   ]
  },
  {
   "cell_type": "code",
   "execution_count": 2,
   "id": "5a1b478617ccfc4",
   "metadata": {
    "ExecuteTime": {
     "end_time": "2025-10-30T02:30:21.798709Z",
     "start_time": "2025-10-30T02:30:21.571055Z"
    },
    "tags": []
   },
   "outputs": [],
   "source": [
    "z = generators.Generator(1000, 100, 10)"
   ]
  },
  {
   "cell_type": "code",
   "execution_count": 3,
   "id": "cf15e91a70ed5105",
   "metadata": {
    "ExecuteTime": {
     "end_time": "2025-10-30T02:30:22.011474Z",
     "start_time": "2025-10-30T02:30:21.916910Z"
    },
    "tags": []
   },
   "outputs": [
    {
     "name": "stdout",
     "output_type": "stream",
     "text": [
      "CPU times: user 385 ms, sys: 34.7 ms, total: 420 ms\n",
      "Wall time: 58.9 ms\n"
     ]
    }
   ],
   "source": [
    "%%time\n",
    "X, y = z.generate_dataset()"
   ]
  },
  {
   "cell_type": "code",
   "execution_count": 4,
   "id": "b6b861287a278130",
   "metadata": {
    "ExecuteTime": {
     "end_time": "2025-10-30T02:30:23.604150Z",
     "start_time": "2025-10-30T02:30:23.578254Z"
    },
    "tags": []
   },
   "outputs": [],
   "source": [
    "train, test = utils.np_to_torch(X, y)"
   ]
  },
  {
   "cell_type": "markdown",
   "id": "b01e52af47d3fbca",
   "metadata": {},
   "source": [
    "### Simple benchmarks"
   ]
  },
  {
   "cell_type": "code",
   "execution_count": 5,
   "id": "69d700d08503c155",
   "metadata": {
    "ExecuteTime": {
     "end_time": "2025-10-30T02:30:26.786730Z",
     "start_time": "2025-10-30T02:30:26.338108Z"
    },
    "tags": []
   },
   "outputs": [],
   "source": [
    "# lasso benchmark\n",
    "lasso = ml_benchmarks.LassoBenchmark()\n",
    "lasso.fit(train)"
   ]
  },
  {
   "cell_type": "code",
   "execution_count": 6,
   "id": "33b00bd9c386d826",
   "metadata": {
    "ExecuteTime": {
     "end_time": "2025-10-30T02:30:26.849790Z",
     "start_time": "2025-10-30T02:30:26.808338Z"
    },
    "tags": []
   },
   "outputs": [
    {
     "data": {
      "text/plain": [
       "np.float64(0.04269901999523229)"
      ]
     },
     "execution_count": 6,
     "metadata": {},
     "output_type": "execute_result"
    }
   ],
   "source": [
    "lasso.score(train)"
   ]
  },
  {
   "cell_type": "code",
   "execution_count": 7,
   "id": "8e622a56866f8168",
   "metadata": {
    "ExecuteTime": {
     "end_time": "2025-10-30T02:30:29.438586Z",
     "start_time": "2025-10-30T02:30:29.394474Z"
    },
    "tags": []
   },
   "outputs": [],
   "source": [
    "# any custom benchmark\n",
    "from sklearn.linear_model import LinearRegression\n",
    "lr = ml_benchmarks.CustomBenchmark(LinearRegression())\n",
    "lr.fit(train)"
   ]
  },
  {
   "cell_type": "code",
   "execution_count": 8,
   "id": "54d15a2e2c4d87aa",
   "metadata": {
    "ExecuteTime": {
     "end_time": "2025-10-30T02:30:29.683303Z",
     "start_time": "2025-10-30T02:30:29.662206Z"
    },
    "tags": []
   },
   "outputs": [],
   "source": [
    "comp = benchmark_comparison.Comparator(models=[lasso, lr], model_names=['lasso', 'lr'])"
   ]
  },
  {
   "cell_type": "code",
   "execution_count": 9,
   "id": "20762f270b60232c",
   "metadata": {
    "ExecuteTime": {
     "end_time": "2025-10-30T02:30:30.071287Z",
     "start_time": "2025-10-30T02:30:30.003245Z"
    },
    "tags": []
   },
   "outputs": [
    {
     "data": {
      "text/html": [
       "<div>\n",
       "<style scoped>\n",
       "    .dataframe tbody tr th:only-of-type {\n",
       "        vertical-align: middle;\n",
       "    }\n",
       "\n",
       "    .dataframe tbody tr th {\n",
       "        vertical-align: top;\n",
       "    }\n",
       "\n",
       "    .dataframe thead th {\n",
       "        text-align: right;\n",
       "    }\n",
       "</style>\n",
       "<table border=\"1\" class=\"dataframe\">\n",
       "  <thead>\n",
       "    <tr style=\"text-align: right;\">\n",
       "      <th></th>\n",
       "      <th>y_true</th>\n",
       "      <th>y_optimal</th>\n",
       "      <th>lasso</th>\n",
       "      <th>lr</th>\n",
       "    </tr>\n",
       "  </thead>\n",
       "  <tbody>\n",
       "    <tr>\n",
       "      <th>y_true</th>\n",
       "      <td>1.000000</td>\n",
       "      <td>0.039390</td>\n",
       "      <td>0.042699</td>\n",
       "      <td>0.042699</td>\n",
       "    </tr>\n",
       "    <tr>\n",
       "      <th>y_optimal</th>\n",
       "      <td>0.039390</td>\n",
       "      <td>1.000000</td>\n",
       "      <td>0.922679</td>\n",
       "      <td>0.922502</td>\n",
       "    </tr>\n",
       "    <tr>\n",
       "      <th>lasso</th>\n",
       "      <td>0.042699</td>\n",
       "      <td>0.922679</td>\n",
       "      <td>1.000000</td>\n",
       "      <td>0.999999</td>\n",
       "    </tr>\n",
       "    <tr>\n",
       "      <th>lr</th>\n",
       "      <td>0.042699</td>\n",
       "      <td>0.922502</td>\n",
       "      <td>0.999999</td>\n",
       "      <td>1.000000</td>\n",
       "    </tr>\n",
       "  </tbody>\n",
       "</table>\n",
       "</div>"
      ],
      "text/plain": [
       "             y_true  y_optimal     lasso        lr\n",
       "y_true     1.000000   0.039390  0.042699  0.042699\n",
       "y_optimal  0.039390   1.000000  0.922679  0.922502\n",
       "lasso      0.042699   0.922679  1.000000  0.999999\n",
       "lr         0.042699   0.922502  0.999999  1.000000"
      ]
     },
     "execution_count": 9,
     "metadata": {},
     "output_type": "execute_result"
    }
   ],
   "source": [
    "comp.correl(train, z.y_pred_optimal[train.dataset.indices].flatten())"
   ]
  },
  {
   "cell_type": "code",
   "execution_count": 10,
   "id": "f853af90-6e16-4a28-8c99-3e28bad1a0af",
   "metadata": {
    "tags": []
   },
   "outputs": [],
   "source": [
    "## BUG HERE"
   ]
  },
  {
   "cell_type": "code",
   "execution_count": 11,
   "id": "15956613-31dc-49be-8e87-b9761b36cdc5",
   "metadata": {
    "ExecuteTime": {
     "end_time": "2025-10-30T02:30:30.071287Z",
     "start_time": "2025-10-30T02:30:30.003245Z"
    },
    "tags": []
   },
   "outputs": [
    {
     "data": {
      "text/html": [
       "<div>\n",
       "<style scoped>\n",
       "    .dataframe tbody tr th:only-of-type {\n",
       "        vertical-align: middle;\n",
       "    }\n",
       "\n",
       "    .dataframe tbody tr th {\n",
       "        vertical-align: top;\n",
       "    }\n",
       "\n",
       "    .dataframe thead th {\n",
       "        text-align: right;\n",
       "    }\n",
       "</style>\n",
       "<table border=\"1\" class=\"dataframe\">\n",
       "  <thead>\n",
       "    <tr style=\"text-align: right;\">\n",
       "      <th></th>\n",
       "      <th>y_true</th>\n",
       "      <th>y_optimal</th>\n",
       "      <th>lasso</th>\n",
       "      <th>lr</th>\n",
       "    </tr>\n",
       "  </thead>\n",
       "  <tbody>\n",
       "    <tr>\n",
       "      <th>y_true</th>\n",
       "      <td>1.000000</td>\n",
       "      <td>0.004494</td>\n",
       "      <td>0.041334</td>\n",
       "      <td>0.041327</td>\n",
       "    </tr>\n",
       "    <tr>\n",
       "      <th>y_optimal</th>\n",
       "      <td>0.004494</td>\n",
       "      <td>1.000000</td>\n",
       "      <td>-0.009340</td>\n",
       "      <td>-0.009350</td>\n",
       "    </tr>\n",
       "    <tr>\n",
       "      <th>lasso</th>\n",
       "      <td>0.041334</td>\n",
       "      <td>-0.009340</td>\n",
       "      <td>1.000000</td>\n",
       "      <td>0.999999</td>\n",
       "    </tr>\n",
       "    <tr>\n",
       "      <th>lr</th>\n",
       "      <td>0.041327</td>\n",
       "      <td>-0.009350</td>\n",
       "      <td>0.999999</td>\n",
       "      <td>1.000000</td>\n",
       "    </tr>\n",
       "  </tbody>\n",
       "</table>\n",
       "</div>"
      ],
      "text/plain": [
       "             y_true  y_optimal     lasso        lr\n",
       "y_true     1.000000   0.004494  0.041334  0.041327\n",
       "y_optimal  0.004494   1.000000 -0.009340 -0.009350\n",
       "lasso      0.041334  -0.009340  1.000000  0.999999\n",
       "lr         0.041327  -0.009350  0.999999  1.000000"
      ]
     },
     "execution_count": 11,
     "metadata": {},
     "output_type": "execute_result"
    }
   ],
   "source": [
    "comp.correl(test, z.y_pred_optimal[train.dataset.indices].flatten())"
   ]
  },
  {
   "cell_type": "markdown",
   "id": "c438622e3b5a2e57",
   "metadata": {},
   "source": [
    "## Torch benchmarks"
   ]
  },
  {
   "cell_type": "markdown",
   "id": "9fc1c722-eeb3-43f9-972f-7fa3787da0dd",
   "metadata": {},
   "source": [
    "### Narrow matrix (equivalent to linear regression setup)"
   ]
  },
  {
   "cell_type": "code",
   "execution_count": 12,
   "id": "092cf626-0d42-4a01-806a-6e7409ce2f9d",
   "metadata": {
    "ExecuteTime": {
     "end_time": "2025-10-30T02:30:23.604150Z",
     "start_time": "2025-10-30T02:30:23.578254Z"
    },
    "tags": []
   },
   "outputs": [],
   "source": [
    "train, test = utils.np_to_torch(X, y, narrow=True)"
   ]
  },
  {
   "cell_type": "code",
   "execution_count": 13,
   "id": "25f94004-de13-43f0-9da2-cfaa89e87c35",
   "metadata": {
    "ExecuteTime": {
     "end_time": "2025-10-30T02:42:47.870717Z",
     "start_time": "2025-10-30T02:42:47.816588Z"
    },
    "tags": []
   },
   "outputs": [],
   "source": [
    "from torch import nn\n",
    "device = 'mps'\n",
    "\n",
    "class NeuralNetwork(nn.Module):\n",
    "    def __init__(self, n_f):\n",
    "        super().__init__()\n",
    "        self.flatten = nn.Flatten()\n",
    "        self.linear_relu_stack = nn.Sequential(\n",
    "            nn.Linear(n_f, 512),\n",
    "            nn.ReLU(),\n",
    "            nn.Linear(512, 1),\n",
    "        )\n",
    "        \n",
    "    def forward(self, x):\n",
    "        pred = self.linear_relu_stack(x)\n",
    "        return pred"
   ]
  },
  {
   "cell_type": "code",
   "execution_count": 14,
   "id": "4f9dd358-6378-4316-8867-4810628e053d",
   "metadata": {
    "tags": []
   },
   "outputs": [],
   "source": [
    "m = NeuralNetwork(n_f=10).to(device)\n",
    "optimizer = torch.optim.Adam(m.parameters(), lr=1e-3, weight_decay=1e-2)\n",
    "\n",
    "\n",
    "full_nn = torch_benchmarks.TorchWrapper(m, optimizer=optimizer)"
   ]
  },
  {
   "cell_type": "code",
   "execution_count": 15,
   "id": "0540daa3-1b08-49a4-b8ee-40fbd5948370",
   "metadata": {
    "tags": []
   },
   "outputs": [],
   "source": [
    "full_nn.fit(train, test, epochs=20)"
   ]
  },
  {
   "cell_type": "code",
   "execution_count": 16,
   "id": "077e54a9-0d45-4248-b367-ab5a947bcd90",
   "metadata": {
    "tags": []
   },
   "outputs": [
    {
     "data": {
      "image/png": "[encoded data removed]",
      "text/plain": [
       "<Figure size 640x480 with 1 Axes>"
      ]
     },
     "metadata": {},
     "output_type": "display_data"
    }
   ],
   "source": [
    "pd.concat([pd.Series(full_nn.train_loss).rename('train_loss'), pd.Series(full_nn.test_loss).rename('test_loss')], axis=1).plot();"
   ]
  },
  {
   "cell_type": "code",
   "execution_count": 17,
   "id": "dcfba06c-8b27-4540-8123-bca1ab5d7dbe",
   "metadata": {
    "ExecuteTime": {
     "end_time": "2025-10-30T02:30:29.683303Z",
     "start_time": "2025-10-30T02:30:29.662206Z"
    },
    "tags": []
   },
   "outputs": [],
   "source": [
    "comp = benchmark_comparison.Comparator(models=[full_nn], model_names=['nn'])"
   ]
  },
  {
   "cell_type": "code",
   "execution_count": 18,
   "id": "85c46016-099c-449c-89ea-a3d09c4cce69",
   "metadata": {
    "tags": []
   },
   "outputs": [
    {
     "data": {
      "text/html": [
       "<div>\n",
       "<style scoped>\n",
       "    .dataframe tbody tr th:only-of-type {\n",
       "        vertical-align: middle;\n",
       "    }\n",
       "\n",
       "    .dataframe tbody tr th {\n",
       "        vertical-align: top;\n",
       "    }\n",
       "\n",
       "    .dataframe thead th {\n",
       "        text-align: right;\n",
       "    }\n",
       "</style>\n",
       "<table border=\"1\" class=\"dataframe\">\n",
       "  <thead>\n",
       "    <tr style=\"text-align: right;\">\n",
       "      <th></th>\n",
       "      <th>y_true</th>\n",
       "      <th>y_optimal</th>\n",
       "      <th>nn</th>\n",
       "    </tr>\n",
       "  </thead>\n",
       "  <tbody>\n",
       "    <tr>\n",
       "      <th>y_true</th>\n",
       "      <td>1.000000</td>\n",
       "      <td>0.039390</td>\n",
       "      <td>0.043698</td>\n",
       "    </tr>\n",
       "    <tr>\n",
       "      <th>y_optimal</th>\n",
       "      <td>0.039390</td>\n",
       "      <td>1.000000</td>\n",
       "      <td>0.846414</td>\n",
       "    </tr>\n",
       "    <tr>\n",
       "      <th>nn</th>\n",
       "      <td>0.043698</td>\n",
       "      <td>0.846414</td>\n",
       "      <td>1.000000</td>\n",
       "    </tr>\n",
       "  </tbody>\n",
       "</table>\n",
       "</div>"
      ],
      "text/plain": [
       "             y_true  y_optimal        nn\n",
       "y_true     1.000000   0.039390  0.043698\n",
       "y_optimal  0.039390   1.000000  0.846414\n",
       "nn         0.043698   0.846414  1.000000"
      ]
     },
     "execution_count": 18,
     "metadata": {},
     "output_type": "execute_result"
    }
   ],
   "source": [
    "opt_dim = z.y_pred_optimal.shape\n",
    "comp.correl(train, z.y_pred_optimal.flatten()[train.dataset.indices])"
   ]
  },
  {
   "cell_type": "code",
   "execution_count": 19,
   "id": "741d23ff-c0b2-4895-ab31-40fd7f3eb22b",
   "metadata": {
    "tags": []
   },
   "outputs": [
    {
     "data": {
      "text/html": [
       "<div>\n",
       "<style scoped>\n",
       "    .dataframe tbody tr th:only-of-type {\n",
       "        vertical-align: middle;\n",
       "    }\n",
       "\n",
       "    .dataframe tbody tr th {\n",
       "        vertical-align: top;\n",
       "    }\n",
       "\n",
       "    .dataframe thead th {\n",
       "        text-align: right;\n",
       "    }\n",
       "</style>\n",
       "<table border=\"1\" class=\"dataframe\">\n",
       "  <thead>\n",
       "    <tr style=\"text-align: right;\">\n",
       "      <th></th>\n",
       "      <th>y_true</th>\n",
       "      <th>y_optimal</th>\n",
       "      <th>nn</th>\n",
       "    </tr>\n",
       "  </thead>\n",
       "  <tbody>\n",
       "    <tr>\n",
       "      <th>y_true</th>\n",
       "      <td>1.000000</td>\n",
       "      <td>0.045977</td>\n",
       "      <td>0.037988</td>\n",
       "    </tr>\n",
       "    <tr>\n",
       "      <th>y_optimal</th>\n",
       "      <td>0.045977</td>\n",
       "      <td>1.000000</td>\n",
       "      <td>0.844104</td>\n",
       "    </tr>\n",
       "    <tr>\n",
       "      <th>nn</th>\n",
       "      <td>0.037988</td>\n",
       "      <td>0.844104</td>\n",
       "      <td>1.000000</td>\n",
       "    </tr>\n",
       "  </tbody>\n",
       "</table>\n",
       "</div>"
      ],
      "text/plain": [
       "             y_true  y_optimal        nn\n",
       "y_true     1.000000   0.045977  0.037988\n",
       "y_optimal  0.045977   1.000000  0.844104\n",
       "nn         0.037988   0.844104  1.000000"
      ]
     },
     "execution_count": 19,
     "metadata": {},
     "output_type": "execute_result"
    }
   ],
   "source": [
    "comp.correl(test, z.y_pred_optimal.flatten()[test.dataset.indices])"
   ]
  },
  {
   "cell_type": "markdown",
   "id": "7f5a369f-28f2-4236-8231-c76fcb819974",
   "metadata": {},
   "source": [
    "### Fully connected"
   ]
  },
  {
   "cell_type": "code",
   "execution_count": 54,
   "id": "cacc1673-144c-4dc6-8b23-20841be9a10b",
   "metadata": {
    "ExecuteTime": {
     "end_time": "2025-10-30T02:30:23.604150Z",
     "start_time": "2025-10-30T02:30:23.578254Z"
    },
    "tags": []
   },
   "outputs": [],
   "source": [
    "train, test = utils.np_to_torch(X, y)"
   ]
  },
  {
   "cell_type": "code",
   "execution_count": 55,
   "id": "dba4e5ef9d5ef442",
   "metadata": {
    "ExecuteTime": {
     "end_time": "2025-10-30T02:40:42.125443Z",
     "start_time": "2025-10-30T02:40:42.075428Z"
    },
    "tags": []
   },
   "outputs": [
    {
     "data": {
      "text/plain": [
       "(64, 64)"
      ]
     },
     "execution_count": 55,
     "metadata": {},
     "output_type": "execute_result"
    }
   ],
   "source": [
    "train.batch_size, test.batch_size"
   ]
  },
  {
   "cell_type": "code",
   "execution_count": 63,
   "id": "16424be4d6a4dd43",
   "metadata": {
    "ExecuteTime": {
     "end_time": "2025-10-30T02:42:47.870717Z",
     "start_time": "2025-10-30T02:42:47.816588Z"
    },
    "tags": []
   },
   "outputs": [],
   "source": [
    "from torch import nn\n",
    "device = 'mps'\n",
    "\n",
    "class NeuralNetwork(nn.Module):\n",
    "    def __init__(self, n_ts, n_f):\n",
    "        super().__init__()\n",
    "        self.flatten = nn.Flatten()\n",
    "        self.linear_relu_stack = nn.Sequential(\n",
    "            nn.Linear(n_ts*n_f, 512),\n",
    "            nn.ReLU(),\n",
    "            # nn.Linear(512, 512),\n",
    "            # nn.ReLU(),\n",
    "            nn.Linear(512, n_ts),\n",
    "        )\n",
    "        \n",
    "        self.linear_relu_stack = nn.Sequential(nn.Linear(n_ts*n_f, 512),\n",
    "            nn.ReLU(),\n",
    "            nn.Dropout(0.2),\n",
    "            nn.Linear(512, 512),\n",
    "            nn.ReLU(),\n",
    "            nn.Dropout(0.2),\n",
    "            nn.Linear(512, n_ts)\n",
    "                                              )\n",
    "\n",
    "    def forward(self, x):\n",
    "        x = self.flatten(x)\n",
    "        pred = self.linear_relu_stack(x)\n",
    "        return pred"
   ]
  },
  {
   "cell_type": "code",
   "execution_count": 64,
   "id": "4035cbfc-3b9e-4acf-845c-b31e3c93cb0a",
   "metadata": {
    "tags": []
   },
   "outputs": [],
   "source": [
    "m = NeuralNetwork(n_ts=100, n_f=10).to(device)\n",
    "optimizer = torch.optim.Adam(m.parameters(), lr=1e-3, weight_decay=1e-2)\n",
    "\n",
    "\n",
    "full_nn = torch_benchmarks.TorchWrapper(m, optimizer=optimizer)"
   ]
  },
  {
   "cell_type": "code",
   "execution_count": 65,
   "id": "a12759f7-9af0-40a6-93bc-a563af8d890f",
   "metadata": {
    "tags": []
   },
   "outputs": [],
   "source": [
    "full_nn.fit(train, test, epochs=20)"
   ]
  },
  {
   "cell_type": "code",
   "execution_count": 66,
   "id": "bcea417e-2cd8-4261-b2d3-5fb1ff5e959f",
   "metadata": {
    "tags": []
   },
   "outputs": [
    {
     "data": {
      "image/png": "[encoded data removed]",
      "text/plain": [
       "<Figure size 640x480 with 1 Axes>"
      ]
     },
     "metadata": {},
     "output_type": "display_data"
    }
   ],
   "source": [
    "pd.concat([pd.Series(full_nn.train_loss).rename('train_loss'), pd.Series(full_nn.test_loss).rename('test_loss')], axis=1).plot();"
   ]
  },
  {
   "cell_type": "code",
   "execution_count": 67,
   "id": "98a5403f-d84e-4dd5-bf03-9a7b6388edfb",
   "metadata": {
    "ExecuteTime": {
     "end_time": "2025-10-30T02:30:29.683303Z",
     "start_time": "2025-10-30T02:30:29.662206Z"
    },
    "tags": []
   },
   "outputs": [],
   "source": [
    "comp = benchmark_comparison.Comparator(models=[lasso, lr, full_nn], model_names=['lasso', 'lr', 'nn'])"
   ]
  },
  {
   "cell_type": "code",
   "execution_count": 68,
   "id": "166ac7b5-ee37-45fb-aa47-ec5460e153ce",
   "metadata": {
    "tags": []
   },
   "outputs": [
    {
     "data": {
      "text/html": [
       "<div>\n",
       "<style scoped>\n",
       "    .dataframe tbody tr th:only-of-type {\n",
       "        vertical-align: middle;\n",
       "    }\n",
       "\n",
       "    .dataframe tbody tr th {\n",
       "        vertical-align: top;\n",
       "    }\n",
       "\n",
       "    .dataframe thead th {\n",
       "        text-align: right;\n",
       "    }\n",
       "</style>\n",
       "<table border=\"1\" class=\"dataframe\">\n",
       "  <thead>\n",
       "    <tr style=\"text-align: right;\">\n",
       "      <th></th>\n",
       "      <th>y_true</th>\n",
       "      <th>y_optimal</th>\n",
       "      <th>lasso</th>\n",
       "      <th>lr</th>\n",
       "      <th>nn</th>\n",
       "    </tr>\n",
       "  </thead>\n",
       "  <tbody>\n",
       "    <tr>\n",
       "      <th>y_true</th>\n",
       "      <td>1.000000</td>\n",
       "      <td>0.039390</td>\n",
       "      <td>0.042699</td>\n",
       "      <td>0.042699</td>\n",
       "      <td>0.032152</td>\n",
       "    </tr>\n",
       "    <tr>\n",
       "      <th>y_optimal</th>\n",
       "      <td>0.039390</td>\n",
       "      <td>1.000000</td>\n",
       "      <td>0.922679</td>\n",
       "      <td>0.922502</td>\n",
       "      <td>-0.000907</td>\n",
       "    </tr>\n",
       "    <tr>\n",
       "      <th>lasso</th>\n",
       "      <td>0.042699</td>\n",
       "      <td>0.922679</td>\n",
       "      <td>1.000000</td>\n",
       "      <td>0.999999</td>\n",
       "      <td>-0.001600</td>\n",
       "    </tr>\n",
       "    <tr>\n",
       "      <th>lr</th>\n",
       "      <td>0.042699</td>\n",
       "      <td>0.922502</td>\n",
       "      <td>0.999999</td>\n",
       "      <td>1.000000</td>\n",
       "      <td>-0.001604</td>\n",
       "    </tr>\n",
       "    <tr>\n",
       "      <th>nn</th>\n",
       "      <td>0.032152</td>\n",
       "      <td>-0.000907</td>\n",
       "      <td>-0.001600</td>\n",
       "      <td>-0.001604</td>\n",
       "      <td>1.000000</td>\n",
       "    </tr>\n",
       "  </tbody>\n",
       "</table>\n",
       "</div>"
      ],
      "text/plain": [
       "             y_true  y_optimal     lasso        lr        nn\n",
       "y_true     1.000000   0.039390  0.042699  0.042699  0.032152\n",
       "y_optimal  0.039390   1.000000  0.922679  0.922502 -0.000907\n",
       "lasso      0.042699   0.922679  1.000000  0.999999 -0.001600\n",
       "lr         0.042699   0.922502  0.999999  1.000000 -0.001604\n",
       "nn         0.032152  -0.000907 -0.001600 -0.001604  1.000000"
      ]
     },
     "execution_count": 68,
     "metadata": {},
     "output_type": "execute_result"
    }
   ],
   "source": [
    "comp.correl(train, z.y_pred_optimal[train.dataset.indices].flatten())"
   ]
  },
  {
   "cell_type": "code",
   "execution_count": 69,
   "id": "0b6c4074-0c78-4843-ba35-c4381c5a8d02",
   "metadata": {
    "tags": []
   },
   "outputs": [
    {
     "data": {
      "text/html": [
       "<div>\n",
       "<style scoped>\n",
       "    .dataframe tbody tr th:only-of-type {\n",
       "        vertical-align: middle;\n",
       "    }\n",
       "\n",
       "    .dataframe tbody tr th {\n",
       "        vertical-align: top;\n",
       "    }\n",
       "\n",
       "    .dataframe thead th {\n",
       "        text-align: right;\n",
       "    }\n",
       "</style>\n",
       "<table border=\"1\" class=\"dataframe\">\n",
       "  <thead>\n",
       "    <tr style=\"text-align: right;\">\n",
       "      <th></th>\n",
       "      <th>y_true</th>\n",
       "      <th>y_optimal</th>\n",
       "      <th>lasso</th>\n",
       "      <th>lr</th>\n",
       "      <th>nn</th>\n",
       "    </tr>\n",
       "  </thead>\n",
       "  <tbody>\n",
       "    <tr>\n",
       "      <th>y_true</th>\n",
       "      <td>1.000000</td>\n",
       "      <td>0.045977</td>\n",
       "      <td>0.041334</td>\n",
       "      <td>0.041327</td>\n",
       "      <td>-0.002212</td>\n",
       "    </tr>\n",
       "    <tr>\n",
       "      <th>y_optimal</th>\n",
       "      <td>0.045977</td>\n",
       "      <td>1.000000</td>\n",
       "      <td>0.921502</td>\n",
       "      <td>0.921325</td>\n",
       "      <td>-0.005891</td>\n",
       "    </tr>\n",
       "    <tr>\n",
       "      <th>lasso</th>\n",
       "      <td>0.041334</td>\n",
       "      <td>0.921502</td>\n",
       "      <td>1.000000</td>\n",
       "      <td>0.999999</td>\n",
       "      <td>-0.002693</td>\n",
       "    </tr>\n",
       "    <tr>\n",
       "      <th>lr</th>\n",
       "      <td>0.041327</td>\n",
       "      <td>0.921325</td>\n",
       "      <td>0.999999</td>\n",
       "      <td>1.000000</td>\n",
       "      <td>-0.002698</td>\n",
       "    </tr>\n",
       "    <tr>\n",
       "      <th>nn</th>\n",
       "      <td>-0.002212</td>\n",
       "      <td>-0.005891</td>\n",
       "      <td>-0.002693</td>\n",
       "      <td>-0.002698</td>\n",
       "      <td>1.000000</td>\n",
       "    </tr>\n",
       "  </tbody>\n",
       "</table>\n",
       "</div>"
      ],
      "text/plain": [
       "             y_true  y_optimal     lasso        lr        nn\n",
       "y_true     1.000000   0.045977  0.041334  0.041327 -0.002212\n",
       "y_optimal  0.045977   1.000000  0.921502  0.921325 -0.005891\n",
       "lasso      0.041334   0.921502  1.000000  0.999999 -0.002693\n",
       "lr         0.041327   0.921325  0.999999  1.000000 -0.002698\n",
       "nn        -0.002212  -0.005891 -0.002693 -0.002698  1.000000"
      ]
     },
     "execution_count": 69,
     "metadata": {},
     "output_type": "execute_result"
    }
   ],
   "source": [
    "comp.correl(test, z.y_pred_optimal[test.dataset.indices].flatten())"
   ]
  },
  {
   "cell_type": "markdown",
   "id": "5cf1c24f-5543-47cc-9073-e7b258a52171",
   "metadata": {},
   "source": [
    "### LSTM model with 10 timestamps"
   ]
  },
  {
   "cell_type": "code",
   "execution_count": 33,
   "id": "6e9779d1-0fbe-490f-8de9-2ee73e0cb3bb",
   "metadata": {
    "ExecuteTime": {
     "end_time": "2025-10-30T02:30:23.604150Z",
     "start_time": "2025-10-30T02:30:23.578254Z"
    },
    "tags": []
   },
   "outputs": [],
   "source": [
    "train, test = utils.np_to_torch(X, y, n_rolling=10)"
   ]
  },
  {
   "cell_type": "code",
   "execution_count": 34,
   "id": "61ad350f-7eae-4c23-88d0-ad4d74a1abe7",
   "metadata": {
    "ExecuteTime": {
     "end_time": "2025-10-30T02:42:47.870717Z",
     "start_time": "2025-10-30T02:42:47.816588Z"
    },
    "tags": []
   },
   "outputs": [],
   "source": [
    "from torch import nn\n",
    "device = 'mps'\n",
    "\n",
    "class LSTMModel(nn.Module):\n",
    "    def __init__(self, n_ts, n_f, n_rolling, hidden_dim=128):\n",
    "        super().__init__()\n",
    "        self.encoder = nn.LSTM(input_size=n_ts*n_f, hidden_size=hidden_dim, batch_first=True)\n",
    "        self.decoder = nn.Linear(hidden_dim, n_ts)\n",
    "    \n",
    "    def forward(self, x):\n",
    "        # warning: lstm dimension needs to be flattened:\n",
    "        # x: (batch, T=10, n_ts*n_f)\n",
    "        _, (h, _) = self.encoder(x.reshape(x.shape[0], x.shape[1], x.shape[2] * x.shape[3]))\n",
    "        out = self.decoder(h[-1]) \n",
    "        return out"
   ]
  },
  {
   "cell_type": "code",
   "execution_count": 35,
   "id": "a230802a-2650-48c1-9ce9-092cab7bbc95",
   "metadata": {
    "tags": []
   },
   "outputs": [],
   "source": [
    "m = LSTMModel(n_ts=100, n_f=10, n_rolling=10).to(device)\n",
    "optimizer = torch.optim.Adam(m.parameters(), lr=0.001)\n",
    "\n",
    "\n",
    "model_lstm = torch_benchmarks.TorchWrapper(m, optimizer=optimizer)"
   ]
  },
  {
   "cell_type": "code",
   "execution_count": 36,
   "id": "69f5c5af6bd3311a",
   "metadata": {
    "tags": []
   },
   "outputs": [],
   "source": [
    "model_lstm.fit(train, test=test, epochs=10)"
   ]
  },
  {
   "cell_type": "code",
   "execution_count": 37,
   "id": "78fe2894-230d-4422-b861-937e2182d50a",
   "metadata": {
    "tags": []
   },
   "outputs": [
    {
     "data": {
      "image/png": "[encoded data removed]",
      "text/plain": [
       "<Figure size 640x480 with 1 Axes>"
      ]
     },
     "metadata": {},
     "output_type": "display_data"
    }
   ],
   "source": [
    "pd.concat([pd.Series(model_lstm.train_loss).rename('train_loss'), pd.Series(model_lstm.test_loss).rename('test_loss')], axis=1).plot();"
   ]
  },
  {
   "cell_type": "code",
   "execution_count": 38,
   "id": "8791c6fa-b1a7-4d79-a129-773cc90c32df",
   "metadata": {
    "ExecuteTime": {
     "end_time": "2025-10-30T02:30:29.683303Z",
     "start_time": "2025-10-30T02:30:29.662206Z"
    },
    "tags": []
   },
   "outputs": [],
   "source": [
    "comp = benchmark_comparison.Comparator(models=[lasso, lr, model_lstm], model_names=['lasso', 'lr', 'lstm'])"
   ]
  },
  {
   "cell_type": "code",
   "execution_count": 39,
   "id": "d4725170-93c8-48a2-bea6-88cf1dab2c00",
   "metadata": {
    "tags": []
   },
   "outputs": [
    {
     "data": {
      "text/html": [
       "<div>\n",
       "<style scoped>\n",
       "    .dataframe tbody tr th:only-of-type {\n",
       "        vertical-align: middle;\n",
       "    }\n",
       "\n",
       "    .dataframe tbody tr th {\n",
       "        vertical-align: top;\n",
       "    }\n",
       "\n",
       "    .dataframe thead th {\n",
       "        text-align: right;\n",
       "    }\n",
       "</style>\n",
       "<table border=\"1\" class=\"dataframe\">\n",
       "  <thead>\n",
       "    <tr style=\"text-align: right;\">\n",
       "      <th></th>\n",
       "      <th>y_true</th>\n",
       "      <th>y_optimal</th>\n",
       "      <th>lasso</th>\n",
       "      <th>lr</th>\n",
       "      <th>lstm</th>\n",
       "    </tr>\n",
       "  </thead>\n",
       "  <tbody>\n",
       "    <tr>\n",
       "      <th>y_true</th>\n",
       "      <td>1.000000</td>\n",
       "      <td>0.039390</td>\n",
       "      <td>0.042699</td>\n",
       "      <td>0.042699</td>\n",
       "      <td>0.782612</td>\n",
       "    </tr>\n",
       "    <tr>\n",
       "      <th>y_optimal</th>\n",
       "      <td>0.039390</td>\n",
       "      <td>1.000000</td>\n",
       "      <td>0.922679</td>\n",
       "      <td>0.922502</td>\n",
       "      <td>0.034654</td>\n",
       "    </tr>\n",
       "    <tr>\n",
       "      <th>lasso</th>\n",
       "      <td>0.042699</td>\n",
       "      <td>0.922679</td>\n",
       "      <td>1.000000</td>\n",
       "      <td>0.999999</td>\n",
       "      <td>0.037060</td>\n",
       "    </tr>\n",
       "    <tr>\n",
       "      <th>lr</th>\n",
       "      <td>0.042699</td>\n",
       "      <td>0.922502</td>\n",
       "      <td>0.999999</td>\n",
       "      <td>1.000000</td>\n",
       "      <td>0.037057</td>\n",
       "    </tr>\n",
       "    <tr>\n",
       "      <th>lstm</th>\n",
       "      <td>0.782612</td>\n",
       "      <td>0.034654</td>\n",
       "      <td>0.037060</td>\n",
       "      <td>0.037057</td>\n",
       "      <td>1.000000</td>\n",
       "    </tr>\n",
       "  </tbody>\n",
       "</table>\n",
       "</div>"
      ],
      "text/plain": [
       "             y_true  y_optimal     lasso        lr      lstm\n",
       "y_true     1.000000   0.039390  0.042699  0.042699  0.782612\n",
       "y_optimal  0.039390   1.000000  0.922679  0.922502  0.034654\n",
       "lasso      0.042699   0.922679  1.000000  0.999999  0.037060\n",
       "lr         0.042699   0.922502  0.999999  1.000000  0.037057\n",
       "lstm       0.782612   0.034654  0.037060  0.037057  1.000000"
      ]
     },
     "execution_count": 39,
     "metadata": {},
     "output_type": "execute_result"
    }
   ],
   "source": [
    "comp.correl(train, z.y_pred_optimal[train.dataset.indices].flatten())"
   ]
  },
  {
   "cell_type": "code",
   "execution_count": 40,
   "id": "8af8c767-b2f1-44ba-b864-9132f2fc35f2",
   "metadata": {
    "tags": []
   },
   "outputs": [
    {
     "data": {
      "text/html": [
       "<div>\n",
       "<style scoped>\n",
       "    .dataframe tbody tr th:only-of-type {\n",
       "        vertical-align: middle;\n",
       "    }\n",
       "\n",
       "    .dataframe tbody tr th {\n",
       "        vertical-align: top;\n",
       "    }\n",
       "\n",
       "    .dataframe thead th {\n",
       "        text-align: right;\n",
       "    }\n",
       "</style>\n",
       "<table border=\"1\" class=\"dataframe\">\n",
       "  <thead>\n",
       "    <tr style=\"text-align: right;\">\n",
       "      <th></th>\n",
       "      <th>y_true</th>\n",
       "      <th>y_optimal</th>\n",
       "      <th>lasso</th>\n",
       "      <th>lr</th>\n",
       "      <th>lstm</th>\n",
       "    </tr>\n",
       "  </thead>\n",
       "  <tbody>\n",
       "    <tr>\n",
       "      <th>y_true</th>\n",
       "      <td>1.000000</td>\n",
       "      <td>0.045977</td>\n",
       "      <td>0.041334</td>\n",
       "      <td>0.041327</td>\n",
       "      <td>0.002266</td>\n",
       "    </tr>\n",
       "    <tr>\n",
       "      <th>y_optimal</th>\n",
       "      <td>0.045977</td>\n",
       "      <td>1.000000</td>\n",
       "      <td>0.921502</td>\n",
       "      <td>0.921325</td>\n",
       "      <td>0.014355</td>\n",
       "    </tr>\n",
       "    <tr>\n",
       "      <th>lasso</th>\n",
       "      <td>0.041334</td>\n",
       "      <td>0.921502</td>\n",
       "      <td>1.000000</td>\n",
       "      <td>0.999999</td>\n",
       "      <td>0.013488</td>\n",
       "    </tr>\n",
       "    <tr>\n",
       "      <th>lr</th>\n",
       "      <td>0.041327</td>\n",
       "      <td>0.921325</td>\n",
       "      <td>0.999999</td>\n",
       "      <td>1.000000</td>\n",
       "      <td>0.013491</td>\n",
       "    </tr>\n",
       "    <tr>\n",
       "      <th>lstm</th>\n",
       "      <td>0.002266</td>\n",
       "      <td>0.014355</td>\n",
       "      <td>0.013488</td>\n",
       "      <td>0.013491</td>\n",
       "      <td>1.000000</td>\n",
       "    </tr>\n",
       "  </tbody>\n",
       "</table>\n",
       "</div>"
      ],
      "text/plain": [
       "             y_true  y_optimal     lasso        lr      lstm\n",
       "y_true     1.000000   0.045977  0.041334  0.041327  0.002266\n",
       "y_optimal  0.045977   1.000000  0.921502  0.921325  0.014355\n",
       "lasso      0.041334   0.921502  1.000000  0.999999  0.013488\n",
       "lr         0.041327   0.921325  0.999999  1.000000  0.013491\n",
       "lstm       0.002266   0.014355  0.013488  0.013491  1.000000"
      ]
     },
     "execution_count": 40,
     "metadata": {},
     "output_type": "execute_result"
    }
   ],
   "source": [
    "comp.correl(test, z.y_pred_optimal[test.dataset.indices].flatten())"
   ]
  },
  {
   "cell_type": "markdown",
   "id": "0b5521ff-ccab-43f2-8320-9a01455d0749",
   "metadata": {},
   "source": [
    "### Transformer"
   ]
  },
  {
   "cell_type": "code",
   "execution_count": 41,
   "id": "a245fb45-7915-44ca-9efd-210dea32d2ac",
   "metadata": {
    "tags": []
   },
   "outputs": [],
   "source": [
    "class TransformerEncoderModel(nn.Module):\n",
    "    def __init__(self, n_ts, n_f, n_rolling, d_model=128, nhead=8, num_layers=2, dropout=0.5):\n",
    "        super().__init__()\n",
    "        self.input_dim = n_ts * n_f\n",
    "        self.d_model = d_model\n",
    "\n",
    "        # Linear projection of (n_ts*n_f) features\n",
    "        self.input_proj = nn.Linear(self.input_dim, d_model)\n",
    "\n",
    "        # Positional encoding (learned or sinusoidal)\n",
    "        self.pos_embedding = nn.Parameter(torch.randn(1, n_rolling, d_model))\n",
    "\n",
    "        # Transformer encoder\n",
    "        encoder_layer = nn.TransformerEncoderLayer(\n",
    "            d_model=d_model,\n",
    "            nhead=nhead,\n",
    "            dim_feedforward=4 * d_model,\n",
    "            dropout=dropout,\n",
    "            batch_first=True\n",
    "        )\n",
    "        self.encoder = nn.TransformerEncoder(encoder_layer, num_layers=num_layers)\n",
    "\n",
    "        # prediction\n",
    "        self.decoder = nn.Sequential(\n",
    "            nn.LayerNorm(d_model),\n",
    "            nn.Linear(d_model, n_ts)\n",
    "        )\n",
    "\n",
    "    def forward(self, x, mask=None):\n",
    "        # x: (batch, n_rolling, n_ts, n_f)\n",
    "        B, n_rolling, n_ts, n_f = x.shape\n",
    "\n",
    "        # Flatten dimensions that are not lookback\n",
    "        x = x.reshape(B, n_rolling, n_ts*n_f)\n",
    "        x = self.input_proj(x) + self.pos_embedding[:, :n_rolling, :]\n",
    "\n",
    "        # pass through Transformer encoder\n",
    "        encoded = self.encoder(x, src_key_padding_mask=mask)  \n",
    "\n",
    "        # last time step’s embedding for prediction\n",
    "        out = self.decoder(encoded[:, -1, :])  # (B, N)\n",
    "        return out"
   ]
  },
  {
   "cell_type": "code",
   "execution_count": 42,
   "id": "2f68d2af-ed42-405a-80cb-ff757a91de5b",
   "metadata": {
    "tags": []
   },
   "outputs": [],
   "source": [
    "m = TransformerEncoderModel(100, 10, 10).to(device)\n",
    "optimizer = torch.optim.Adam(m.parameters(), lr=0.001)\n",
    "\n",
    "\n",
    "model_torch = torch_benchmarks.TorchWrapper(m, optimizer=optimizer)"
   ]
  },
  {
   "cell_type": "code",
   "execution_count": 43,
   "id": "9d0d6e49-22c3-4810-8498-f832ecb6192d",
   "metadata": {
    "tags": []
   },
   "outputs": [],
   "source": [
    "model_torch.fit(train, test=test, epochs=100)"
   ]
  },
  {
   "cell_type": "code",
   "execution_count": 44,
   "id": "7485eb20-dec2-4106-8565-d269a9ca3b33",
   "metadata": {
    "tags": []
   },
   "outputs": [
    {
     "data": {
      "image/png": "[encoded data removed]",
      "text/plain": [
       "<Figure size 640x480 with 1 Axes>"
      ]
     },
     "metadata": {},
     "output_type": "display_data"
    }
   ],
   "source": [
    "pd.concat([pd.Series(model_torch.train_loss).rename('train_loss'), pd.Series(model_torch.test_loss).rename('test_loss')], axis=1).plot();"
   ]
  },
  {
   "cell_type": "code",
   "execution_count": 45,
   "id": "2a9ef21c-cdee-41c4-995a-3c35a153047e",
   "metadata": {
    "ExecuteTime": {
     "end_time": "2025-10-30T02:30:29.683303Z",
     "start_time": "2025-10-30T02:30:29.662206Z"
    },
    "tags": []
   },
   "outputs": [],
   "source": [
    "comp = benchmark_comparison.Comparator(models=[lasso, lr, model_lstm, model_torch], model_names=['lasso', 'lr', 'lstm', 'transformer'])"
   ]
  },
  {
   "cell_type": "code",
   "execution_count": 46,
   "id": "84816be7-5dc5-4fd2-913c-b1211d082a2f",
   "metadata": {
    "tags": []
   },
   "outputs": [
    {
     "data": {
      "text/html": [
       "<div>\n",
       "<style scoped>\n",
       "    .dataframe tbody tr th:only-of-type {\n",
       "        vertical-align: middle;\n",
       "    }\n",
       "\n",
       "    .dataframe tbody tr th {\n",
       "        vertical-align: top;\n",
       "    }\n",
       "\n",
       "    .dataframe thead th {\n",
       "        text-align: right;\n",
       "    }\n",
       "</style>\n",
       "<table border=\"1\" class=\"dataframe\">\n",
       "  <thead>\n",
       "    <tr style=\"text-align: right;\">\n",
       "      <th></th>\n",
       "      <th>y_true</th>\n",
       "      <th>y_optimal</th>\n",
       "      <th>lasso</th>\n",
       "      <th>lr</th>\n",
       "      <th>lstm</th>\n",
       "      <th>transformer</th>\n",
       "    </tr>\n",
       "  </thead>\n",
       "  <tbody>\n",
       "    <tr>\n",
       "      <th>y_true</th>\n",
       "      <td>1.000</td>\n",
       "      <td>0.039</td>\n",
       "      <td>0.043</td>\n",
       "      <td>0.043</td>\n",
       "      <td>0.783</td>\n",
       "      <td>0.982</td>\n",
       "    </tr>\n",
       "    <tr>\n",
       "      <th>y_optimal</th>\n",
       "      <td>0.039</td>\n",
       "      <td>1.000</td>\n",
       "      <td>0.923</td>\n",
       "      <td>0.923</td>\n",
       "      <td>0.035</td>\n",
       "      <td>0.039</td>\n",
       "    </tr>\n",
       "    <tr>\n",
       "      <th>lasso</th>\n",
       "      <td>0.043</td>\n",
       "      <td>0.923</td>\n",
       "      <td>1.000</td>\n",
       "      <td>1.000</td>\n",
       "      <td>0.037</td>\n",
       "      <td>0.042</td>\n",
       "    </tr>\n",
       "    <tr>\n",
       "      <th>lr</th>\n",
       "      <td>0.043</td>\n",
       "      <td>0.923</td>\n",
       "      <td>1.000</td>\n",
       "      <td>1.000</td>\n",
       "      <td>0.037</td>\n",
       "      <td>0.042</td>\n",
       "    </tr>\n",
       "    <tr>\n",
       "      <th>lstm</th>\n",
       "      <td>0.783</td>\n",
       "      <td>0.035</td>\n",
       "      <td>0.037</td>\n",
       "      <td>0.037</td>\n",
       "      <td>1.000</td>\n",
       "      <td>0.775</td>\n",
       "    </tr>\n",
       "    <tr>\n",
       "      <th>transformer</th>\n",
       "      <td>0.982</td>\n",
       "      <td>0.039</td>\n",
       "      <td>0.042</td>\n",
       "      <td>0.042</td>\n",
       "      <td>0.775</td>\n",
       "      <td>1.000</td>\n",
       "    </tr>\n",
       "  </tbody>\n",
       "</table>\n",
       "</div>"
      ],
      "text/plain": [
       "             y_true  y_optimal  lasso     lr   lstm  transformer\n",
       "y_true        1.000      0.039  0.043  0.043  0.783        0.982\n",
       "y_optimal     0.039      1.000  0.923  0.923  0.035        0.039\n",
       "lasso         0.043      0.923  1.000  1.000  0.037        0.042\n",
       "lr            0.043      0.923  1.000  1.000  0.037        0.042\n",
       "lstm          0.783      0.035  0.037  0.037  1.000        0.775\n",
       "transformer   0.982      0.039  0.042  0.042  0.775        1.000"
      ]
     },
     "execution_count": 46,
     "metadata": {},
     "output_type": "execute_result"
    }
   ],
   "source": [
    "comp.correl(train, z.y_pred_optimal[train.dataset.indices].flatten()).round(3)"
   ]
  },
  {
   "cell_type": "code",
   "execution_count": 47,
   "id": "e662d641-33d7-4232-97a3-e51736ef431a",
   "metadata": {
    "tags": []
   },
   "outputs": [
    {
     "data": {
      "text/html": [
       "<div>\n",
       "<style scoped>\n",
       "    .dataframe tbody tr th:only-of-type {\n",
       "        vertical-align: middle;\n",
       "    }\n",
       "\n",
       "    .dataframe tbody tr th {\n",
       "        vertical-align: top;\n",
       "    }\n",
       "\n",
       "    .dataframe thead th {\n",
       "        text-align: right;\n",
       "    }\n",
       "</style>\n",
       "<table border=\"1\" class=\"dataframe\">\n",
       "  <thead>\n",
       "    <tr style=\"text-align: right;\">\n",
       "      <th></th>\n",
       "      <th>y_true</th>\n",
       "      <th>y_optimal</th>\n",
       "      <th>lasso</th>\n",
       "      <th>lr</th>\n",
       "      <th>lstm</th>\n",
       "      <th>transformer</th>\n",
       "    </tr>\n",
       "  </thead>\n",
       "  <tbody>\n",
       "    <tr>\n",
       "      <th>y_true</th>\n",
       "      <td>1.000</td>\n",
       "      <td>0.046</td>\n",
       "      <td>0.041</td>\n",
       "      <td>0.041</td>\n",
       "      <td>0.002</td>\n",
       "      <td>0.014</td>\n",
       "    </tr>\n",
       "    <tr>\n",
       "      <th>y_optimal</th>\n",
       "      <td>0.046</td>\n",
       "      <td>1.000</td>\n",
       "      <td>0.922</td>\n",
       "      <td>0.921</td>\n",
       "      <td>0.014</td>\n",
       "      <td>0.017</td>\n",
       "    </tr>\n",
       "    <tr>\n",
       "      <th>lasso</th>\n",
       "      <td>0.041</td>\n",
       "      <td>0.922</td>\n",
       "      <td>1.000</td>\n",
       "      <td>1.000</td>\n",
       "      <td>0.013</td>\n",
       "      <td>0.021</td>\n",
       "    </tr>\n",
       "    <tr>\n",
       "      <th>lr</th>\n",
       "      <td>0.041</td>\n",
       "      <td>0.921</td>\n",
       "      <td>1.000</td>\n",
       "      <td>1.000</td>\n",
       "      <td>0.013</td>\n",
       "      <td>0.021</td>\n",
       "    </tr>\n",
       "    <tr>\n",
       "      <th>lstm</th>\n",
       "      <td>0.002</td>\n",
       "      <td>0.014</td>\n",
       "      <td>0.013</td>\n",
       "      <td>0.013</td>\n",
       "      <td>1.000</td>\n",
       "      <td>0.127</td>\n",
       "    </tr>\n",
       "    <tr>\n",
       "      <th>transformer</th>\n",
       "      <td>0.014</td>\n",
       "      <td>0.017</td>\n",
       "      <td>0.021</td>\n",
       "      <td>0.021</td>\n",
       "      <td>0.127</td>\n",
       "      <td>1.000</td>\n",
       "    </tr>\n",
       "  </tbody>\n",
       "</table>\n",
       "</div>"
      ],
      "text/plain": [
       "             y_true  y_optimal  lasso     lr   lstm  transformer\n",
       "y_true        1.000      0.046  0.041  0.041  0.002        0.014\n",
       "y_optimal     0.046      1.000  0.922  0.921  0.014        0.017\n",
       "lasso         0.041      0.922  1.000  1.000  0.013        0.021\n",
       "lr            0.041      0.921  1.000  1.000  0.013        0.021\n",
       "lstm          0.002      0.014  0.013  0.013  1.000        0.127\n",
       "transformer   0.014      0.017  0.021  0.021  0.127        1.000"
      ]
     },
     "execution_count": 47,
     "metadata": {},
     "output_type": "execute_result"
    }
   ],
   "source": [
    "comp.correl(test, z.y_pred_optimal[test.dataset.indices].flatten()).round(3)"
   ]
  },
  {
   "cell_type": "code",
   "execution_count": null,
   "id": "73b691be-b776-4eaa-9081-4f47dc0a446a",
   "metadata": {},
   "outputs": [],
   "source": []
  }
 ],
 "metadata": {
  "kernelspec": {
   "display_name": "Python 3 (ipykernel)",
   "language": "python",
   "name": "python3"
  },
  "language_info": {
   "codemirror_mode": {
    "name": "ipython",
    "version": 3
   },
   "file_extension": ".py",
   "mimetype": "text/x-python",
   "name": "python",
   "nbconvert_exporter": "python",
   "pygments_lexer": "ipython3",
   "version": "3.10.14"
  }
 },
 "nbformat": 4,
 "nbformat_minor": 5
}
