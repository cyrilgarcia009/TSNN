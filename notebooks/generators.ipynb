{
 "cells": [
  {
   "cell_type": "markdown",
   "id": "e4d4e4970fda3f8e",
   "metadata": {},
   "source": [
    "# TSNN examples"
   ]
  },
  {
   "cell_type": "code",
   "execution_count": 1,
   "id": "e7d379e75a98c686",
   "metadata": {
    "ExecuteTime": {
     "end_time": "2025-10-30T02:29:18.502605Z",
     "start_time": "2025-10-30T02:29:18.248368Z"
    },
    "tags": []
   },
   "outputs": [],
   "source": [
    "%load_ext autoreload\n",
    "%autoreload 2\n",
    "\n",
    "import matplotlib.pyplot as plt\n",
    "import pandas as pd\n",
    "import numpy as np\n",
    "from sklearn.linear_model import LassoCV, RidgeCV, LinearRegression\n",
    "import torch\n",
    "from torch.utils.data import Dataset, random_split\n",
    "from torch.utils.data import DataLoader\n",
    "import importlib\n",
    "import sys\n",
    "sys.path.append('/Users/cyrilgarcia/notebooks/tsnn/')\n",
    "\n",
    "import tsnn\n",
    "\n",
    "from tsnn.generators import generators\n",
    "from tsnn.benchmarks import benchmark_comparison, ml_benchmarks, torch_benchmarks\n",
    "from tsnn import utils\n",
    "\n",
    "plt.style.use('ggplot')"
   ]
  },
  {
   "cell_type": "code",
   "execution_count": 2,
   "id": "5a1b478617ccfc4",
   "metadata": {
    "ExecuteTime": {
     "end_time": "2025-10-30T02:30:21.798709Z",
     "start_time": "2025-10-30T02:30:21.571055Z"
    },
    "tags": []
   },
   "outputs": [],
   "source": [
    "z = generators.Generator(1000, 100, 10)"
   ]
  },
  {
   "cell_type": "code",
   "execution_count": 3,
   "id": "cf15e91a70ed5105",
   "metadata": {
    "ExecuteTime": {
     "end_time": "2025-10-30T02:30:22.011474Z",
     "start_time": "2025-10-30T02:30:21.916910Z"
    },
    "tags": []
   },
   "outputs": [
    {
     "name": "stdout",
     "output_type": "stream",
     "text": [
      "CPU times: user 300 ms, sys: 88.1 ms, total: 388 ms\n",
      "Wall time: 53.7 ms\n"
     ]
    }
   ],
   "source": [
    "%%time\n",
    "X, y = z.generate_dataset()"
   ]
  },
  {
   "cell_type": "code",
   "execution_count": 4,
   "id": "a824be3e-2f70-4b46-9ffa-50db900881fa",
   "metadata": {
    "ExecuteTime": {
     "end_time": "2025-10-30T02:30:23.476999Z",
     "start_time": "2025-10-30T02:30:23.431533Z"
    },
    "tags": []
   },
   "outputs": [
    {
     "data": {
      "text/plain": [
       "(torch.Size([1000, 100, 10]), torch.Size([1000, 100]))"
      ]
     },
     "execution_count": 4,
     "metadata": {},
     "output_type": "execute_result"
    }
   ],
   "source": [
    "X.shape, y.shape"
   ]
  },
  {
   "cell_type": "code",
   "execution_count": 5,
   "id": "b6b861287a278130",
   "metadata": {
    "ExecuteTime": {
     "end_time": "2025-10-30T02:30:23.604150Z",
     "start_time": "2025-10-30T02:30:23.578254Z"
    },
    "tags": []
   },
   "outputs": [],
   "source": [
    "train, test = utils.np_to_torch(X, y)"
   ]
  },
  {
   "cell_type": "markdown",
   "id": "b01e52af47d3fbca",
   "metadata": {},
   "source": [
    "### Simple benchmarks"
   ]
  },
  {
   "cell_type": "code",
   "execution_count": 6,
   "id": "69d700d08503c155",
   "metadata": {
    "ExecuteTime": {
     "end_time": "2025-10-30T02:30:26.786730Z",
     "start_time": "2025-10-30T02:30:26.338108Z"
    },
    "tags": []
   },
   "outputs": [],
   "source": [
    "# lasso benchmark\n",
    "lasso = ml_benchmarks.LassoBenchmark()\n",
    "lasso.fit(train)"
   ]
  },
  {
   "cell_type": "code",
   "execution_count": 7,
   "id": "33b00bd9c386d826",
   "metadata": {
    "ExecuteTime": {
     "end_time": "2025-10-30T02:30:26.849790Z",
     "start_time": "2025-10-30T02:30:26.808338Z"
    },
    "tags": []
   },
   "outputs": [
    {
     "data": {
      "text/plain": [
       "np.float64(0.030631154617380422)"
      ]
     },
     "execution_count": 7,
     "metadata": {},
     "output_type": "execute_result"
    }
   ],
   "source": [
    "lasso.score(train)"
   ]
  },
  {
   "cell_type": "code",
   "execution_count": 8,
   "id": "8e622a56866f8168",
   "metadata": {
    "ExecuteTime": {
     "end_time": "2025-10-30T02:30:29.438586Z",
     "start_time": "2025-10-30T02:30:29.394474Z"
    },
    "tags": []
   },
   "outputs": [],
   "source": [
    "# any custom benchmark\n",
    "from sklearn.linear_model import LinearRegression\n",
    "lr = ml_benchmarks.CustomBenchmark(LinearRegression())\n",
    "lr.fit(train)"
   ]
  },
  {
   "cell_type": "code",
   "execution_count": 9,
   "id": "54d15a2e2c4d87aa",
   "metadata": {
    "ExecuteTime": {
     "end_time": "2025-10-30T02:30:29.683303Z",
     "start_time": "2025-10-30T02:30:29.662206Z"
    },
    "tags": []
   },
   "outputs": [],
   "source": [
    "comp = benchmark_comparison.Comparator(models=[lasso, lr], model_names=['lasso', 'lr'])"
   ]
  },
  {
   "cell_type": "code",
   "execution_count": 10,
   "id": "04ae8cfd-8689-4a23-89e9-418138418646",
   "metadata": {
    "tags": []
   },
   "outputs": [
    {
     "data": {
      "text/plain": [
       "tensor([-1.1209, -0.9378, -0.2856,  ...,  1.7982,  0.5957, -0.3579])"
      ]
     },
     "execution_count": 10,
     "metadata": {},
     "output_type": "execute_result"
    }
   ],
   "source": [
    "train.dataset.dataset.y.flatten()"
   ]
  },
  {
   "cell_type": "code",
   "execution_count": 11,
   "id": "20762f270b60232c",
   "metadata": {
    "ExecuteTime": {
     "end_time": "2025-10-30T02:30:30.071287Z",
     "start_time": "2025-10-30T02:30:30.003245Z"
    },
    "tags": []
   },
   "outputs": [
    {
     "data": {
      "text/html": [
       "<div>\n",
       "<style scoped>\n",
       "    .dataframe tbody tr th:only-of-type {\n",
       "        vertical-align: middle;\n",
       "    }\n",
       "\n",
       "    .dataframe tbody tr th {\n",
       "        vertical-align: top;\n",
       "    }\n",
       "\n",
       "    .dataframe thead th {\n",
       "        text-align: right;\n",
       "    }\n",
       "</style>\n",
       "<table border=\"1\" class=\"dataframe\">\n",
       "  <thead>\n",
       "    <tr style=\"text-align: right;\">\n",
       "      <th></th>\n",
       "      <th>y_true</th>\n",
       "      <th>y_optimal</th>\n",
       "      <th>lasso</th>\n",
       "      <th>lr</th>\n",
       "    </tr>\n",
       "  </thead>\n",
       "  <tbody>\n",
       "    <tr>\n",
       "      <th>y_true</th>\n",
       "      <td>1.000000</td>\n",
       "      <td>0.028724</td>\n",
       "      <td>0.030631</td>\n",
       "      <td>0.030675</td>\n",
       "    </tr>\n",
       "    <tr>\n",
       "      <th>y_optimal</th>\n",
       "      <td>0.028724</td>\n",
       "      <td>1.000000</td>\n",
       "      <td>0.942811</td>\n",
       "      <td>0.936421</td>\n",
       "    </tr>\n",
       "    <tr>\n",
       "      <th>lasso</th>\n",
       "      <td>0.030631</td>\n",
       "      <td>0.942811</td>\n",
       "      <td>1.000000</td>\n",
       "      <td>0.998581</td>\n",
       "    </tr>\n",
       "    <tr>\n",
       "      <th>lr</th>\n",
       "      <td>0.030675</td>\n",
       "      <td>0.936421</td>\n",
       "      <td>0.998581</td>\n",
       "      <td>1.000000</td>\n",
       "    </tr>\n",
       "  </tbody>\n",
       "</table>\n",
       "</div>"
      ],
      "text/plain": [
       "             y_true  y_optimal     lasso        lr\n",
       "y_true     1.000000   0.028724  0.030631  0.030675\n",
       "y_optimal  0.028724   1.000000  0.942811  0.936421\n",
       "lasso      0.030631   0.942811  1.000000  0.998581\n",
       "lr         0.030675   0.936421  0.998581  1.000000"
      ]
     },
     "execution_count": 11,
     "metadata": {},
     "output_type": "execute_result"
    }
   ],
   "source": [
    "comp.correl(train, z.y_pred_optimal[train.dataset.indices].flatten())"
   ]
  },
  {
   "cell_type": "code",
   "execution_count": 12,
   "id": "15956613-31dc-49be-8e87-b9761b36cdc5",
   "metadata": {
    "ExecuteTime": {
     "end_time": "2025-10-30T02:30:30.071287Z",
     "start_time": "2025-10-30T02:30:30.003245Z"
    },
    "tags": []
   },
   "outputs": [
    {
     "data": {
      "text/html": [
       "<div>\n",
       "<style scoped>\n",
       "    .dataframe tbody tr th:only-of-type {\n",
       "        vertical-align: middle;\n",
       "    }\n",
       "\n",
       "    .dataframe tbody tr th {\n",
       "        vertical-align: top;\n",
       "    }\n",
       "\n",
       "    .dataframe thead th {\n",
       "        text-align: right;\n",
       "    }\n",
       "</style>\n",
       "<table border=\"1\" class=\"dataframe\">\n",
       "  <thead>\n",
       "    <tr style=\"text-align: right;\">\n",
       "      <th></th>\n",
       "      <th>y_true</th>\n",
       "      <th>y_optimal</th>\n",
       "      <th>lasso</th>\n",
       "      <th>lr</th>\n",
       "    </tr>\n",
       "  </thead>\n",
       "  <tbody>\n",
       "    <tr>\n",
       "      <th>y_true</th>\n",
       "      <td>1.000000</td>\n",
       "      <td>0.001369</td>\n",
       "      <td>0.033716</td>\n",
       "      <td>0.033939</td>\n",
       "    </tr>\n",
       "    <tr>\n",
       "      <th>y_optimal</th>\n",
       "      <td>0.001369</td>\n",
       "      <td>1.000000</td>\n",
       "      <td>-0.003035</td>\n",
       "      <td>-0.002319</td>\n",
       "    </tr>\n",
       "    <tr>\n",
       "      <th>lasso</th>\n",
       "      <td>0.033716</td>\n",
       "      <td>-0.003035</td>\n",
       "      <td>1.000000</td>\n",
       "      <td>0.998582</td>\n",
       "    </tr>\n",
       "    <tr>\n",
       "      <th>lr</th>\n",
       "      <td>0.033939</td>\n",
       "      <td>-0.002319</td>\n",
       "      <td>0.998582</td>\n",
       "      <td>1.000000</td>\n",
       "    </tr>\n",
       "  </tbody>\n",
       "</table>\n",
       "</div>"
      ],
      "text/plain": [
       "             y_true  y_optimal     lasso        lr\n",
       "y_true     1.000000   0.001369  0.033716  0.033939\n",
       "y_optimal  0.001369   1.000000 -0.003035 -0.002319\n",
       "lasso      0.033716  -0.003035  1.000000  0.998582\n",
       "lr         0.033939  -0.002319  0.998582  1.000000"
      ]
     },
     "execution_count": 12,
     "metadata": {},
     "output_type": "execute_result"
    }
   ],
   "source": [
    "comp.correl(test, z.y_pred_optimal[train.dataset.indices].flatten())"
   ]
  },
  {
   "cell_type": "markdown",
   "id": "c438622e3b5a2e57",
   "metadata": {},
   "source": [
    "## Torch benchmarks"
   ]
  },
  {
   "cell_type": "markdown",
   "id": "7f5a369f-28f2-4236-8231-c76fcb819974",
   "metadata": {},
   "source": [
    "### Fully connected"
   ]
  },
  {
   "cell_type": "code",
   "execution_count": 13,
   "id": "dba4e5ef9d5ef442",
   "metadata": {
    "ExecuteTime": {
     "end_time": "2025-10-30T02:40:42.125443Z",
     "start_time": "2025-10-30T02:40:42.075428Z"
    },
    "tags": []
   },
   "outputs": [
    {
     "data": {
      "text/plain": [
       "(64, 64)"
      ]
     },
     "execution_count": 13,
     "metadata": {},
     "output_type": "execute_result"
    }
   ],
   "source": [
    "train.batch_size, test.batch_size"
   ]
  },
  {
   "cell_type": "code",
   "execution_count": 14,
   "id": "16424be4d6a4dd43",
   "metadata": {
    "ExecuteTime": {
     "end_time": "2025-10-30T02:42:47.870717Z",
     "start_time": "2025-10-30T02:42:47.816588Z"
    },
    "tags": []
   },
   "outputs": [],
   "source": [
    "from torch import nn\n",
    "device = 'mps'\n",
    "\n",
    "class NeuralNetwork(nn.Module):\n",
    "    def __init__(self, n_ts, n_f):\n",
    "        super().__init__()\n",
    "        self.flatten = nn.Flatten()\n",
    "        self.linear_relu_stack = nn.Sequential(\n",
    "            nn.Linear(n_ts*n_f, 512),\n",
    "            nn.ReLU(),\n",
    "            nn.Linear(512, 512),\n",
    "            nn.ReLU(),\n",
    "            nn.Linear(512, n_ts),\n",
    "        )\n",
    "\n",
    "    def forward(self, x):\n",
    "        x = self.flatten(x)\n",
    "        pred = self.linear_relu_stack(x)\n",
    "        return pred"
   ]
  },
  {
   "cell_type": "code",
   "execution_count": 15,
   "id": "4035cbfc-3b9e-4acf-845c-b31e3c93cb0a",
   "metadata": {
    "tags": []
   },
   "outputs": [],
   "source": [
    "m = NeuralNetwork(n_ts=100, n_f=10).to(device)\n",
    "optimizer = torch.optim.Adam(m.parameters(), lr=0.001)\n",
    "\n",
    "\n",
    "full_nn = torch_benchmarks.TorchWrapper(m, optimizer=optimizer)"
   ]
  },
  {
   "cell_type": "code",
   "execution_count": 16,
   "id": "a12759f7-9af0-40a6-93bc-a563af8d890f",
   "metadata": {
    "tags": []
   },
   "outputs": [],
   "source": [
    "full_nn.fit(train, test, epochs=20)"
   ]
  },
  {
   "cell_type": "code",
   "execution_count": 17,
   "id": "bcea417e-2cd8-4261-b2d3-5fb1ff5e959f",
   "metadata": {
    "tags": []
   },
   "outputs": [
    {
     "data": {
      "image/png": "[encoded data removed]",
      "text/plain": [
       "<Figure size 640x480 with 1 Axes>"
      ]
     },
     "metadata": {},
     "output_type": "display_data"
    }
   ],
   "source": [
    "pd.concat([pd.Series(full_nn.train_loss).rename('train_loss'), pd.Series(full_nn.test_loss).rename('test_loss')], axis=1).plot();"
   ]
  },
  {
   "cell_type": "code",
   "execution_count": 18,
   "id": "98a5403f-d84e-4dd5-bf03-9a7b6388edfb",
   "metadata": {
    "ExecuteTime": {
     "end_time": "2025-10-30T02:30:29.683303Z",
     "start_time": "2025-10-30T02:30:29.662206Z"
    },
    "tags": []
   },
   "outputs": [],
   "source": [
    "comp = benchmark_comparison.Comparator(models=[lasso, lr, full_nn], model_names=['lasso', 'lr', 'nn'])"
   ]
  },
  {
   "cell_type": "code",
   "execution_count": 19,
   "id": "166ac7b5-ee37-45fb-aa47-ec5460e153ce",
   "metadata": {
    "tags": []
   },
   "outputs": [
    {
     "data": {
      "text/html": [
       "<div>\n",
       "<style scoped>\n",
       "    .dataframe tbody tr th:only-of-type {\n",
       "        vertical-align: middle;\n",
       "    }\n",
       "\n",
       "    .dataframe tbody tr th {\n",
       "        vertical-align: top;\n",
       "    }\n",
       "\n",
       "    .dataframe thead th {\n",
       "        text-align: right;\n",
       "    }\n",
       "</style>\n",
       "<table border=\"1\" class=\"dataframe\">\n",
       "  <thead>\n",
       "    <tr style=\"text-align: right;\">\n",
       "      <th></th>\n",
       "      <th>y_true</th>\n",
       "      <th>y_optimal</th>\n",
       "      <th>lasso</th>\n",
       "      <th>lr</th>\n",
       "      <th>nn</th>\n",
       "    </tr>\n",
       "  </thead>\n",
       "  <tbody>\n",
       "    <tr>\n",
       "      <th>y_true</th>\n",
       "      <td>1.000000</td>\n",
       "      <td>0.028724</td>\n",
       "      <td>0.030631</td>\n",
       "      <td>0.030675</td>\n",
       "      <td>0.994456</td>\n",
       "    </tr>\n",
       "    <tr>\n",
       "      <th>y_optimal</th>\n",
       "      <td>0.028724</td>\n",
       "      <td>1.000000</td>\n",
       "      <td>0.942811</td>\n",
       "      <td>0.936421</td>\n",
       "      <td>0.029486</td>\n",
       "    </tr>\n",
       "    <tr>\n",
       "      <th>lasso</th>\n",
       "      <td>0.030631</td>\n",
       "      <td>0.942811</td>\n",
       "      <td>1.000000</td>\n",
       "      <td>0.998581</td>\n",
       "      <td>0.031351</td>\n",
       "    </tr>\n",
       "    <tr>\n",
       "      <th>lr</th>\n",
       "      <td>0.030675</td>\n",
       "      <td>0.936421</td>\n",
       "      <td>0.998581</td>\n",
       "      <td>1.000000</td>\n",
       "      <td>0.031375</td>\n",
       "    </tr>\n",
       "    <tr>\n",
       "      <th>nn</th>\n",
       "      <td>0.994456</td>\n",
       "      <td>0.029486</td>\n",
       "      <td>0.031351</td>\n",
       "      <td>0.031375</td>\n",
       "      <td>1.000000</td>\n",
       "    </tr>\n",
       "  </tbody>\n",
       "</table>\n",
       "</div>"
      ],
      "text/plain": [
       "             y_true  y_optimal     lasso        lr        nn\n",
       "y_true     1.000000   0.028724  0.030631  0.030675  0.994456\n",
       "y_optimal  0.028724   1.000000  0.942811  0.936421  0.029486\n",
       "lasso      0.030631   0.942811  1.000000  0.998581  0.031351\n",
       "lr         0.030675   0.936421  0.998581  1.000000  0.031375\n",
       "nn         0.994456   0.029486  0.031351  0.031375  1.000000"
      ]
     },
     "execution_count": 19,
     "metadata": {},
     "output_type": "execute_result"
    }
   ],
   "source": [
    "comp.correl(train, z.y_pred_optimal[train.dataset.indices].flatten())"
   ]
  },
  {
   "cell_type": "code",
   "execution_count": 20,
   "id": "0b6c4074-0c78-4843-ba35-c4381c5a8d02",
   "metadata": {
    "tags": []
   },
   "outputs": [
    {
     "data": {
      "text/html": [
       "<div>\n",
       "<style scoped>\n",
       "    .dataframe tbody tr th:only-of-type {\n",
       "        vertical-align: middle;\n",
       "    }\n",
       "\n",
       "    .dataframe tbody tr th {\n",
       "        vertical-align: top;\n",
       "    }\n",
       "\n",
       "    .dataframe thead th {\n",
       "        text-align: right;\n",
       "    }\n",
       "</style>\n",
       "<table border=\"1\" class=\"dataframe\">\n",
       "  <thead>\n",
       "    <tr style=\"text-align: right;\">\n",
       "      <th></th>\n",
       "      <th>y_true</th>\n",
       "      <th>y_optimal</th>\n",
       "      <th>lasso</th>\n",
       "      <th>lr</th>\n",
       "      <th>nn</th>\n",
       "    </tr>\n",
       "  </thead>\n",
       "  <tbody>\n",
       "    <tr>\n",
       "      <th>y_true</th>\n",
       "      <td>1.000000</td>\n",
       "      <td>0.035473</td>\n",
       "      <td>0.033716</td>\n",
       "      <td>0.033939</td>\n",
       "      <td>0.004408</td>\n",
       "    </tr>\n",
       "    <tr>\n",
       "      <th>y_optimal</th>\n",
       "      <td>0.035473</td>\n",
       "      <td>1.000000</td>\n",
       "      <td>0.941967</td>\n",
       "      <td>0.935535</td>\n",
       "      <td>0.008899</td>\n",
       "    </tr>\n",
       "    <tr>\n",
       "      <th>lasso</th>\n",
       "      <td>0.033716</td>\n",
       "      <td>0.941967</td>\n",
       "      <td>1.000000</td>\n",
       "      <td>0.998582</td>\n",
       "      <td>0.013320</td>\n",
       "    </tr>\n",
       "    <tr>\n",
       "      <th>lr</th>\n",
       "      <td>0.033939</td>\n",
       "      <td>0.935535</td>\n",
       "      <td>0.998582</td>\n",
       "      <td>1.000000</td>\n",
       "      <td>0.013055</td>\n",
       "    </tr>\n",
       "    <tr>\n",
       "      <th>nn</th>\n",
       "      <td>0.004408</td>\n",
       "      <td>0.008899</td>\n",
       "      <td>0.013320</td>\n",
       "      <td>0.013055</td>\n",
       "      <td>1.000000</td>\n",
       "    </tr>\n",
       "  </tbody>\n",
       "</table>\n",
       "</div>"
      ],
      "text/plain": [
       "             y_true  y_optimal     lasso        lr        nn\n",
       "y_true     1.000000   0.035473  0.033716  0.033939  0.004408\n",
       "y_optimal  0.035473   1.000000  0.941967  0.935535  0.008899\n",
       "lasso      0.033716   0.941967  1.000000  0.998582  0.013320\n",
       "lr         0.033939   0.935535  0.998582  1.000000  0.013055\n",
       "nn         0.004408   0.008899  0.013320  0.013055  1.000000"
      ]
     },
     "execution_count": 20,
     "metadata": {},
     "output_type": "execute_result"
    }
   ],
   "source": [
    "comp.correl(test, z.y_pred_optimal[test.dataset.indices].flatten())"
   ]
  },
  {
   "cell_type": "markdown",
   "id": "5cf1c24f-5543-47cc-9073-e7b258a52171",
   "metadata": {},
   "source": [
    "### LSTM model with 10 timestamps"
   ]
  },
  {
   "cell_type": "code",
   "execution_count": 21,
   "id": "6e9779d1-0fbe-490f-8de9-2ee73e0cb3bb",
   "metadata": {
    "ExecuteTime": {
     "end_time": "2025-10-30T02:30:23.604150Z",
     "start_time": "2025-10-30T02:30:23.578254Z"
    },
    "tags": []
   },
   "outputs": [],
   "source": [
    "train, test = utils.np_to_torch(X, y, n_rolling=10)"
   ]
  },
  {
   "cell_type": "code",
   "execution_count": 22,
   "id": "61ad350f-7eae-4c23-88d0-ad4d74a1abe7",
   "metadata": {
    "ExecuteTime": {
     "end_time": "2025-10-30T02:42:47.870717Z",
     "start_time": "2025-10-30T02:42:47.816588Z"
    },
    "tags": []
   },
   "outputs": [],
   "source": [
    "from torch import nn\n",
    "device = 'mps'\n",
    "\n",
    "class LSTMModel(nn.Module):\n",
    "    def __init__(self, n_ts, n_f, n_rolling, hidden_dim=128):\n",
    "        super().__init__()\n",
    "        self.encoder = nn.LSTM(input_size=n_ts*n_f, hidden_size=hidden_dim, batch_first=True)\n",
    "        self.decoder = nn.Linear(hidden_dim, n_ts)\n",
    "    \n",
    "    def forward(self, x):\n",
    "        # warning: lstm dimension needs to be flattened:\n",
    "        # x: (batch, T=10, n_ts*n_f)\n",
    "        _, (h, _) = self.encoder(x.reshape(x.shape[0], x.shape[1], x.shape[2] * x.shape[3]))\n",
    "        out = self.decoder(h[-1]) \n",
    "        return out"
   ]
  },
  {
   "cell_type": "code",
   "execution_count": 23,
   "id": "a230802a-2650-48c1-9ce9-092cab7bbc95",
   "metadata": {
    "tags": []
   },
   "outputs": [],
   "source": [
    "m = LSTMModel(n_ts=100, n_f=10, n_rolling=10).to(device)\n",
    "optimizer = torch.optim.Adam(m.parameters(), lr=0.001)\n",
    "\n",
    "\n",
    "model_lstm = torch_benchmarks.TorchWrapper(m, optimizer=optimizer)"
   ]
  },
  {
   "cell_type": "code",
   "execution_count": 24,
   "id": "69f5c5af6bd3311a",
   "metadata": {
    "tags": []
   },
   "outputs": [],
   "source": [
    "model_lstm.fit(train, test=test, epochs=10)"
   ]
  },
  {
   "cell_type": "code",
   "execution_count": 25,
   "id": "78fe2894-230d-4422-b861-937e2182d50a",
   "metadata": {
    "tags": []
   },
   "outputs": [
    {
     "data": {
      "image/png": "[encoded data removed]",
      "text/plain": [
       "<Figure size 640x480 with 1 Axes>"
      ]
     },
     "metadata": {},
     "output_type": "display_data"
    }
   ],
   "source": [
    "pd.concat([pd.Series(model_lstm.train_loss).rename('train_loss'), pd.Series(model_lstm.test_loss).rename('test_loss')], axis=1).plot();"
   ]
  },
  {
   "cell_type": "code",
   "execution_count": 26,
   "id": "8791c6fa-b1a7-4d79-a129-773cc90c32df",
   "metadata": {
    "ExecuteTime": {
     "end_time": "2025-10-30T02:30:29.683303Z",
     "start_time": "2025-10-30T02:30:29.662206Z"
    },
    "tags": []
   },
   "outputs": [],
   "source": [
    "comp = benchmark_comparison.Comparator(models=[lasso, lr, model_lstm], model_names=['lasso', 'lr', 'lstm'])"
   ]
  },
  {
   "cell_type": "code",
   "execution_count": 27,
   "id": "d4725170-93c8-48a2-bea6-88cf1dab2c00",
   "metadata": {
    "tags": []
   },
   "outputs": [
    {
     "data": {
      "text/html": [
       "<div>\n",
       "<style scoped>\n",
       "    .dataframe tbody tr th:only-of-type {\n",
       "        vertical-align: middle;\n",
       "    }\n",
       "\n",
       "    .dataframe tbody tr th {\n",
       "        vertical-align: top;\n",
       "    }\n",
       "\n",
       "    .dataframe thead th {\n",
       "        text-align: right;\n",
       "    }\n",
       "</style>\n",
       "<table border=\"1\" class=\"dataframe\">\n",
       "  <thead>\n",
       "    <tr style=\"text-align: right;\">\n",
       "      <th></th>\n",
       "      <th>y_true</th>\n",
       "      <th>y_optimal</th>\n",
       "      <th>lasso</th>\n",
       "      <th>lr</th>\n",
       "      <th>lstm</th>\n",
       "    </tr>\n",
       "  </thead>\n",
       "  <tbody>\n",
       "    <tr>\n",
       "      <th>y_true</th>\n",
       "      <td>1.000000</td>\n",
       "      <td>0.028724</td>\n",
       "      <td>0.030631</td>\n",
       "      <td>0.030675</td>\n",
       "      <td>0.779066</td>\n",
       "    </tr>\n",
       "    <tr>\n",
       "      <th>y_optimal</th>\n",
       "      <td>0.028724</td>\n",
       "      <td>1.000000</td>\n",
       "      <td>0.942811</td>\n",
       "      <td>0.936421</td>\n",
       "      <td>0.022161</td>\n",
       "    </tr>\n",
       "    <tr>\n",
       "      <th>lasso</th>\n",
       "      <td>0.030631</td>\n",
       "      <td>0.942811</td>\n",
       "      <td>1.000000</td>\n",
       "      <td>0.998581</td>\n",
       "      <td>0.024070</td>\n",
       "    </tr>\n",
       "    <tr>\n",
       "      <th>lr</th>\n",
       "      <td>0.030675</td>\n",
       "      <td>0.936421</td>\n",
       "      <td>0.998581</td>\n",
       "      <td>1.000000</td>\n",
       "      <td>0.024195</td>\n",
       "    </tr>\n",
       "    <tr>\n",
       "      <th>lstm</th>\n",
       "      <td>0.779066</td>\n",
       "      <td>0.022161</td>\n",
       "      <td>0.024070</td>\n",
       "      <td>0.024195</td>\n",
       "      <td>1.000000</td>\n",
       "    </tr>\n",
       "  </tbody>\n",
       "</table>\n",
       "</div>"
      ],
      "text/plain": [
       "             y_true  y_optimal     lasso        lr      lstm\n",
       "y_true     1.000000   0.028724  0.030631  0.030675  0.779066\n",
       "y_optimal  0.028724   1.000000  0.942811  0.936421  0.022161\n",
       "lasso      0.030631   0.942811  1.000000  0.998581  0.024070\n",
       "lr         0.030675   0.936421  0.998581  1.000000  0.024195\n",
       "lstm       0.779066   0.022161  0.024070  0.024195  1.000000"
      ]
     },
     "execution_count": 27,
     "metadata": {},
     "output_type": "execute_result"
    }
   ],
   "source": [
    "comp.correl(train, z.y_pred_optimal[train.dataset.indices].flatten())"
   ]
  },
  {
   "cell_type": "code",
   "execution_count": 28,
   "id": "8af8c767-b2f1-44ba-b864-9132f2fc35f2",
   "metadata": {
    "tags": []
   },
   "outputs": [
    {
     "data": {
      "text/html": [
       "<div>\n",
       "<style scoped>\n",
       "    .dataframe tbody tr th:only-of-type {\n",
       "        vertical-align: middle;\n",
       "    }\n",
       "\n",
       "    .dataframe tbody tr th {\n",
       "        vertical-align: top;\n",
       "    }\n",
       "\n",
       "    .dataframe thead th {\n",
       "        text-align: right;\n",
       "    }\n",
       "</style>\n",
       "<table border=\"1\" class=\"dataframe\">\n",
       "  <thead>\n",
       "    <tr style=\"text-align: right;\">\n",
       "      <th></th>\n",
       "      <th>y_true</th>\n",
       "      <th>y_optimal</th>\n",
       "      <th>lasso</th>\n",
       "      <th>lr</th>\n",
       "      <th>lstm</th>\n",
       "    </tr>\n",
       "  </thead>\n",
       "  <tbody>\n",
       "    <tr>\n",
       "      <th>y_true</th>\n",
       "      <td>1.000000</td>\n",
       "      <td>0.035473</td>\n",
       "      <td>0.033716</td>\n",
       "      <td>0.033939</td>\n",
       "      <td>0.009888</td>\n",
       "    </tr>\n",
       "    <tr>\n",
       "      <th>y_optimal</th>\n",
       "      <td>0.035473</td>\n",
       "      <td>1.000000</td>\n",
       "      <td>0.941967</td>\n",
       "      <td>0.935535</td>\n",
       "      <td>0.002838</td>\n",
       "    </tr>\n",
       "    <tr>\n",
       "      <th>lasso</th>\n",
       "      <td>0.033716</td>\n",
       "      <td>0.941967</td>\n",
       "      <td>1.000000</td>\n",
       "      <td>0.998582</td>\n",
       "      <td>0.002594</td>\n",
       "    </tr>\n",
       "    <tr>\n",
       "      <th>lr</th>\n",
       "      <td>0.033939</td>\n",
       "      <td>0.935535</td>\n",
       "      <td>0.998582</td>\n",
       "      <td>1.000000</td>\n",
       "      <td>0.002390</td>\n",
       "    </tr>\n",
       "    <tr>\n",
       "      <th>lstm</th>\n",
       "      <td>0.009888</td>\n",
       "      <td>0.002838</td>\n",
       "      <td>0.002594</td>\n",
       "      <td>0.002390</td>\n",
       "      <td>1.000000</td>\n",
       "    </tr>\n",
       "  </tbody>\n",
       "</table>\n",
       "</div>"
      ],
      "text/plain": [
       "             y_true  y_optimal     lasso        lr      lstm\n",
       "y_true     1.000000   0.035473  0.033716  0.033939  0.009888\n",
       "y_optimal  0.035473   1.000000  0.941967  0.935535  0.002838\n",
       "lasso      0.033716   0.941967  1.000000  0.998582  0.002594\n",
       "lr         0.033939   0.935535  0.998582  1.000000  0.002390\n",
       "lstm       0.009888   0.002838  0.002594  0.002390  1.000000"
      ]
     },
     "execution_count": 28,
     "metadata": {},
     "output_type": "execute_result"
    }
   ],
   "source": [
    "comp.correl(test, z.y_pred_optimal[test.dataset.indices].flatten())"
   ]
  },
  {
   "cell_type": "markdown",
   "id": "0b5521ff-ccab-43f2-8320-9a01455d0749",
   "metadata": {},
   "source": [
    "### Transformer"
   ]
  },
  {
   "cell_type": "code",
   "execution_count": 29,
   "id": "a245fb45-7915-44ca-9efd-210dea32d2ac",
   "metadata": {
    "tags": []
   },
   "outputs": [],
   "source": [
    "class TransformerEncoderModel(nn.Module):\n",
    "    def __init__(self, n_ts, n_f, n_rolling, d_model=128, nhead=8, num_layers=2, dropout=0.1):\n",
    "        super().__init__()\n",
    "        self.input_dim = n_ts * n_f\n",
    "        self.d_model = d_model\n",
    "\n",
    "        # Linear projection of (n_ts*n_f) features\n",
    "        self.input_proj = nn.Linear(self.input_dim, d_model)\n",
    "\n",
    "        # Positional encoding (learned or sinusoidal)\n",
    "        self.pos_embedding = nn.Parameter(torch.randn(1, n_rolling, d_model))\n",
    "\n",
    "        # Transformer encoder\n",
    "        encoder_layer = nn.TransformerEncoderLayer(\n",
    "            d_model=d_model,\n",
    "            nhead=nhead,\n",
    "            dim_feedforward=4 * d_model,\n",
    "            dropout=dropout,\n",
    "            batch_first=True\n",
    "        )\n",
    "        self.encoder = nn.TransformerEncoder(encoder_layer, num_layers=num_layers)\n",
    "\n",
    "        # prediction\n",
    "        self.decoder = nn.Sequential(\n",
    "            nn.LayerNorm(d_model),\n",
    "            nn.Linear(d_model, n_ts)\n",
    "        )\n",
    "\n",
    "    def forward(self, x, mask=None):\n",
    "        # x: (batch, n_rolling, n_ts, n_f)\n",
    "        B, n_rolling, n_ts, n_f = x.shape\n",
    "\n",
    "        # Flatten dimensions that are not lookback\n",
    "        x = x.reshape(B, n_rolling, n_ts*n_f)\n",
    "        x = self.input_proj(x) + self.pos_embedding[:, :n_rolling, :]\n",
    "\n",
    "        # pass through Transformer encoder\n",
    "        encoded = self.encoder(x, src_key_padding_mask=mask)  \n",
    "\n",
    "        # last time step’s embedding for prediction\n",
    "        out = self.decoder(encoded[:, -1, :])  # (B, N)\n",
    "        return out"
   ]
  },
  {
   "cell_type": "code",
   "execution_count": 30,
   "id": "2f68d2af-ed42-405a-80cb-ff757a91de5b",
   "metadata": {
    "tags": []
   },
   "outputs": [],
   "source": [
    "m = TransformerEncoderModel(100, 10, 10).to(device)\n",
    "optimizer = torch.optim.Adam(m.parameters(), lr=0.001)\n",
    "\n",
    "\n",
    "model_torch = torch_benchmarks.TorchWrapper(m, optimizer=optimizer)"
   ]
  },
  {
   "cell_type": "code",
   "execution_count": 31,
   "id": "9d0d6e49-22c3-4810-8498-f832ecb6192d",
   "metadata": {
    "tags": []
   },
   "outputs": [],
   "source": [
    "model_torch.fit(train, test=test, epochs=10)"
   ]
  },
  {
   "cell_type": "code",
   "execution_count": 32,
   "id": "7485eb20-dec2-4106-8565-d269a9ca3b33",
   "metadata": {
    "tags": []
   },
   "outputs": [
    {
     "data": {
      "image/png": "[encoded data removed]",
      "text/plain": [
       "<Figure size 640x480 with 1 Axes>"
      ]
     },
     "metadata": {},
     "output_type": "display_data"
    }
   ],
   "source": [
    "pd.concat([pd.Series(model_torch.train_loss).rename('train_loss'), pd.Series(model_torch.test_loss).rename('test_loss')], axis=1).plot();"
   ]
  },
  {
   "cell_type": "code",
   "execution_count": 33,
   "id": "2a9ef21c-cdee-41c4-995a-3c35a153047e",
   "metadata": {
    "ExecuteTime": {
     "end_time": "2025-10-30T02:30:29.683303Z",
     "start_time": "2025-10-30T02:30:29.662206Z"
    },
    "tags": []
   },
   "outputs": [],
   "source": [
    "comp = benchmark_comparison.Comparator(models=[lasso, lr, model_lstm, model_torch], model_names=['lasso', 'lr', 'lstm', 'transformer'])"
   ]
  },
  {
   "cell_type": "code",
   "execution_count": 34,
   "id": "84816be7-5dc5-4fd2-913c-b1211d082a2f",
   "metadata": {
    "tags": []
   },
   "outputs": [
    {
     "data": {
      "text/html": [
       "<div>\n",
       "<style scoped>\n",
       "    .dataframe tbody tr th:only-of-type {\n",
       "        vertical-align: middle;\n",
       "    }\n",
       "\n",
       "    .dataframe tbody tr th {\n",
       "        vertical-align: top;\n",
       "    }\n",
       "\n",
       "    .dataframe thead th {\n",
       "        text-align: right;\n",
       "    }\n",
       "</style>\n",
       "<table border=\"1\" class=\"dataframe\">\n",
       "  <thead>\n",
       "    <tr style=\"text-align: right;\">\n",
       "      <th></th>\n",
       "      <th>y_true</th>\n",
       "      <th>y_optimal</th>\n",
       "      <th>lasso</th>\n",
       "      <th>lr</th>\n",
       "      <th>lstm</th>\n",
       "      <th>transformer</th>\n",
       "    </tr>\n",
       "  </thead>\n",
       "  <tbody>\n",
       "    <tr>\n",
       "      <th>y_true</th>\n",
       "      <td>1.000000</td>\n",
       "      <td>0.028724</td>\n",
       "      <td>0.030631</td>\n",
       "      <td>0.030675</td>\n",
       "      <td>0.779066</td>\n",
       "      <td>0.845340</td>\n",
       "    </tr>\n",
       "    <tr>\n",
       "      <th>y_optimal</th>\n",
       "      <td>0.028724</td>\n",
       "      <td>1.000000</td>\n",
       "      <td>0.942811</td>\n",
       "      <td>0.936421</td>\n",
       "      <td>0.022161</td>\n",
       "      <td>0.030302</td>\n",
       "    </tr>\n",
       "    <tr>\n",
       "      <th>lasso</th>\n",
       "      <td>0.030631</td>\n",
       "      <td>0.942811</td>\n",
       "      <td>1.000000</td>\n",
       "      <td>0.998581</td>\n",
       "      <td>0.024070</td>\n",
       "      <td>0.032257</td>\n",
       "    </tr>\n",
       "    <tr>\n",
       "      <th>lr</th>\n",
       "      <td>0.030675</td>\n",
       "      <td>0.936421</td>\n",
       "      <td>0.998581</td>\n",
       "      <td>1.000000</td>\n",
       "      <td>0.024195</td>\n",
       "      <td>0.032374</td>\n",
       "    </tr>\n",
       "    <tr>\n",
       "      <th>lstm</th>\n",
       "      <td>0.779066</td>\n",
       "      <td>0.022161</td>\n",
       "      <td>0.024070</td>\n",
       "      <td>0.024195</td>\n",
       "      <td>1.000000</td>\n",
       "      <td>0.731426</td>\n",
       "    </tr>\n",
       "    <tr>\n",
       "      <th>transformer</th>\n",
       "      <td>0.845340</td>\n",
       "      <td>0.030302</td>\n",
       "      <td>0.032257</td>\n",
       "      <td>0.032374</td>\n",
       "      <td>0.731426</td>\n",
       "      <td>1.000000</td>\n",
       "    </tr>\n",
       "  </tbody>\n",
       "</table>\n",
       "</div>"
      ],
      "text/plain": [
       "               y_true  y_optimal     lasso        lr      lstm  transformer\n",
       "y_true       1.000000   0.028724  0.030631  0.030675  0.779066     0.845340\n",
       "y_optimal    0.028724   1.000000  0.942811  0.936421  0.022161     0.030302\n",
       "lasso        0.030631   0.942811  1.000000  0.998581  0.024070     0.032257\n",
       "lr           0.030675   0.936421  0.998581  1.000000  0.024195     0.032374\n",
       "lstm         0.779066   0.022161  0.024070  0.024195  1.000000     0.731426\n",
       "transformer  0.845340   0.030302  0.032257  0.032374  0.731426     1.000000"
      ]
     },
     "execution_count": 34,
     "metadata": {},
     "output_type": "execute_result"
    }
   ],
   "source": [
    "comp.correl(train, z.y_pred_optimal[train.dataset.indices].flatten())"
   ]
  },
  {
   "cell_type": "code",
   "execution_count": 35,
   "id": "e662d641-33d7-4232-97a3-e51736ef431a",
   "metadata": {
    "tags": []
   },
   "outputs": [
    {
     "data": {
      "text/html": [
       "<div>\n",
       "<style scoped>\n",
       "    .dataframe tbody tr th:only-of-type {\n",
       "        vertical-align: middle;\n",
       "    }\n",
       "\n",
       "    .dataframe tbody tr th {\n",
       "        vertical-align: top;\n",
       "    }\n",
       "\n",
       "    .dataframe thead th {\n",
       "        text-align: right;\n",
       "    }\n",
       "</style>\n",
       "<table border=\"1\" class=\"dataframe\">\n",
       "  <thead>\n",
       "    <tr style=\"text-align: right;\">\n",
       "      <th></th>\n",
       "      <th>y_true</th>\n",
       "      <th>y_optimal</th>\n",
       "      <th>lasso</th>\n",
       "      <th>lr</th>\n",
       "      <th>lstm</th>\n",
       "      <th>transformer</th>\n",
       "    </tr>\n",
       "  </thead>\n",
       "  <tbody>\n",
       "    <tr>\n",
       "      <th>y_true</th>\n",
       "      <td>1.000000</td>\n",
       "      <td>0.035473</td>\n",
       "      <td>0.033716</td>\n",
       "      <td>0.033939</td>\n",
       "      <td>0.009888</td>\n",
       "      <td>-0.004937</td>\n",
       "    </tr>\n",
       "    <tr>\n",
       "      <th>y_optimal</th>\n",
       "      <td>0.035473</td>\n",
       "      <td>1.000000</td>\n",
       "      <td>0.941967</td>\n",
       "      <td>0.935535</td>\n",
       "      <td>0.002838</td>\n",
       "      <td>0.002194</td>\n",
       "    </tr>\n",
       "    <tr>\n",
       "      <th>lasso</th>\n",
       "      <td>0.033716</td>\n",
       "      <td>0.941967</td>\n",
       "      <td>1.000000</td>\n",
       "      <td>0.998582</td>\n",
       "      <td>0.002594</td>\n",
       "      <td>0.006735</td>\n",
       "    </tr>\n",
       "    <tr>\n",
       "      <th>lr</th>\n",
       "      <td>0.033939</td>\n",
       "      <td>0.935535</td>\n",
       "      <td>0.998582</td>\n",
       "      <td>1.000000</td>\n",
       "      <td>0.002390</td>\n",
       "      <td>0.006487</td>\n",
       "    </tr>\n",
       "    <tr>\n",
       "      <th>lstm</th>\n",
       "      <td>0.009888</td>\n",
       "      <td>0.002838</td>\n",
       "      <td>0.002594</td>\n",
       "      <td>0.002390</td>\n",
       "      <td>1.000000</td>\n",
       "      <td>0.195634</td>\n",
       "    </tr>\n",
       "    <tr>\n",
       "      <th>transformer</th>\n",
       "      <td>-0.004937</td>\n",
       "      <td>0.002194</td>\n",
       "      <td>0.006735</td>\n",
       "      <td>0.006487</td>\n",
       "      <td>0.195634</td>\n",
       "      <td>1.000000</td>\n",
       "    </tr>\n",
       "  </tbody>\n",
       "</table>\n",
       "</div>"
      ],
      "text/plain": [
       "               y_true  y_optimal     lasso        lr      lstm  transformer\n",
       "y_true       1.000000   0.035473  0.033716  0.033939  0.009888    -0.004937\n",
       "y_optimal    0.035473   1.000000  0.941967  0.935535  0.002838     0.002194\n",
       "lasso        0.033716   0.941967  1.000000  0.998582  0.002594     0.006735\n",
       "lr           0.033939   0.935535  0.998582  1.000000  0.002390     0.006487\n",
       "lstm         0.009888   0.002838  0.002594  0.002390  1.000000     0.195634\n",
       "transformer -0.004937   0.002194  0.006735  0.006487  0.195634     1.000000"
      ]
     },
     "execution_count": 35,
     "metadata": {},
     "output_type": "execute_result"
    }
   ],
   "source": [
    "comp.correl(test, z.y_pred_optimal[test.dataset.indices].flatten())"
   ]
  },
  {
   "cell_type": "code",
   "execution_count": null,
   "id": "d1f1a11a-010f-4001-babe-3e481175fff8",
   "metadata": {},
   "outputs": [],
   "source": []
  }
 ],
 "metadata": {
  "kernelspec": {
   "display_name": "Python 3 (ipykernel)",
   "language": "python",
   "name": "python3"
  },
  "language_info": {
   "codemirror_mode": {
    "name": "ipython",
    "version": 3
   },
   "file_extension": ".py",
   "mimetype": "text/x-python",
   "name": "python",
   "nbconvert_exporter": "python",
   "pygments_lexer": "ipython3",
   "version": "3.10.14"
  }
 },
 "nbformat": 4,
 "nbformat_minor": 5
}
