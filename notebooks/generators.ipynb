{
 "cells": [
  {
   "cell_type": "markdown",
   "id": "e4d4e4970fda3f8e",
   "metadata": {},
   "source": [
    "# TSNN examples"
   ]
  },
  {
   "cell_type": "code",
   "execution_count": 1,
   "id": "e7d379e75a98c686",
   "metadata": {
    "ExecuteTime": {
     "end_time": "2025-10-30T02:29:18.502605Z",
     "start_time": "2025-10-30T02:29:18.248368Z"
    },
    "tags": []
   },
   "outputs": [],
   "source": [
    "%load_ext autoreload\n",
    "%autoreload 2\n",
    "\n",
    "import pandas as pd\n",
    "import numpy as np\n",
    "from sklearn.linear_model import LassoCV, RidgeCV, LinearRegression\n",
    "import torch\n",
    "from torch.utils.data import Dataset, random_split\n",
    "from torch.utils.data import DataLoader\n",
    "import importlib\n",
    "import sys\n",
    "sys.path.append('/Users/cyrilgarcia/notebooks/tsnn/')\n",
    "\n",
    "import tsnn\n",
    "\n",
    "from tsnn.generators import generators\n",
    "from tsnn.benchmarks import benchmark_comparison, ml_benchmarks, torch_benchmarks\n",
    "from tsnn import utils"
   ]
  },
  {
   "cell_type": "code",
   "execution_count": 2,
   "id": "5a1b478617ccfc4",
   "metadata": {
    "ExecuteTime": {
     "end_time": "2025-10-30T02:30:21.798709Z",
     "start_time": "2025-10-30T02:30:21.571055Z"
    },
    "tags": []
   },
   "outputs": [],
   "source": [
    "z = generators.Generator(1000, 100, 10)"
   ]
  },
  {
   "cell_type": "code",
   "execution_count": 3,
   "id": "cf15e91a70ed5105",
   "metadata": {
    "ExecuteTime": {
     "end_time": "2025-10-30T02:30:22.011474Z",
     "start_time": "2025-10-30T02:30:21.916910Z"
    },
    "tags": []
   },
   "outputs": [
    {
     "name": "stdout",
     "output_type": "stream",
     "text": [
      "CPU times: user 536 ms, sys: 39.4 ms, total: 576 ms\n",
      "Wall time: 81.4 ms\n"
     ]
    }
   ],
   "source": [
    "%%time\n",
    "X, y = z.generate_dataset()"
   ]
  },
  {
   "cell_type": "code",
   "execution_count": 4,
   "id": "a824be3e-2f70-4b46-9ffa-50db900881fa",
   "metadata": {
    "ExecuteTime": {
     "end_time": "2025-10-30T02:30:23.476999Z",
     "start_time": "2025-10-30T02:30:23.431533Z"
    },
    "tags": []
   },
   "outputs": [
    {
     "data": {
      "text/plain": [
       "(torch.Size([1000, 100, 10]), torch.Size([1000, 100]))"
      ]
     },
     "execution_count": 4,
     "metadata": {},
     "output_type": "execute_result"
    }
   ],
   "source": [
    "X.shape, y.shape"
   ]
  },
  {
   "cell_type": "code",
   "execution_count": 5,
   "id": "b6b861287a278130",
   "metadata": {
    "ExecuteTime": {
     "end_time": "2025-10-30T02:30:23.604150Z",
     "start_time": "2025-10-30T02:30:23.578254Z"
    },
    "tags": []
   },
   "outputs": [
    {
     "name": "stdout",
     "output_type": "stream",
     "text": [
      "700 300\n"
     ]
    }
   ],
   "source": [
    "train, test = utils.np_to_torch(X, y)"
   ]
  },
  {
   "cell_type": "markdown",
   "id": "b01e52af47d3fbca",
   "metadata": {},
   "source": [
    "### Simple benchmarks"
   ]
  },
  {
   "cell_type": "code",
   "execution_count": 7,
   "id": "3b852e1b6c4b9420",
   "metadata": {
    "ExecuteTime": {
     "end_time": "2025-10-30T02:30:26.263118Z",
     "start_time": "2025-10-30T02:30:26.184435Z"
    },
    "tags": []
   },
   "outputs": [],
   "source": [
    "X, y = utils.torch_to_np(train)"
   ]
  },
  {
   "cell_type": "code",
   "execution_count": 9,
   "id": "69d700d08503c155",
   "metadata": {
    "ExecuteTime": {
     "end_time": "2025-10-30T02:30:26.786730Z",
     "start_time": "2025-10-30T02:30:26.338108Z"
    },
    "tags": []
   },
   "outputs": [],
   "source": [
    "# lasso benchmark\n",
    "lasso = ml_benchmarks.LassoBenchmark()\n",
    "lasso.fit(train)"
   ]
  },
  {
   "cell_type": "code",
   "execution_count": 10,
   "id": "33b00bd9c386d826",
   "metadata": {
    "ExecuteTime": {
     "end_time": "2025-10-30T02:30:26.849790Z",
     "start_time": "2025-10-30T02:30:26.808338Z"
    },
    "tags": []
   },
   "outputs": [
    {
     "data": {
      "text/plain": [
       "np.float64(0.048792118395638046)"
      ]
     },
     "execution_count": 10,
     "metadata": {},
     "output_type": "execute_result"
    }
   ],
   "source": [
    "lasso.score(train)"
   ]
  },
  {
   "cell_type": "code",
   "execution_count": 12,
   "id": "c5a550f5aeb282a",
   "metadata": {
    "ExecuteTime": {
     "end_time": "2025-10-30T02:30:26.932167Z",
     "start_time": "2025-10-30T02:30:26.896039Z"
    },
    "tags": []
   },
   "outputs": [
    {
     "data": {
      "text/plain": [
       "array([[1.        , 0.04825836],\n",
       "       [0.04825836, 1.        ]])"
      ]
     },
     "execution_count": 12,
     "metadata": {},
     "output_type": "execute_result"
    }
   ],
   "source": [
    "np.corrcoef(y, z.y_pred_optimal[train.dataset.indices].flatten())"
   ]
  },
  {
   "cell_type": "code",
   "execution_count": 13,
   "id": "8e622a56866f8168",
   "metadata": {
    "ExecuteTime": {
     "end_time": "2025-10-30T02:30:29.438586Z",
     "start_time": "2025-10-30T02:30:29.394474Z"
    },
    "tags": []
   },
   "outputs": [],
   "source": [
    "# any custom benchmark\n",
    "from sklearn.linear_model import LinearRegression\n",
    "lr = ml_benchmarks.CustomBenchmark(LinearRegression())\n",
    "lr.fit(train)"
   ]
  },
  {
   "cell_type": "code",
   "execution_count": 14,
   "id": "54d15a2e2c4d87aa",
   "metadata": {
    "ExecuteTime": {
     "end_time": "2025-10-30T02:30:29.683303Z",
     "start_time": "2025-10-30T02:30:29.662206Z"
    },
    "tags": []
   },
   "outputs": [],
   "source": [
    "comp = benchmark_comparison.Comparator(models=[lasso, lr], model_names=['lasso', 'lr'])"
   ]
  },
  {
   "cell_type": "code",
   "execution_count": 15,
   "id": "04ae8cfd-8689-4a23-89e9-418138418646",
   "metadata": {
    "tags": []
   },
   "outputs": [
    {
     "data": {
      "text/plain": [
       "tensor([-0.8833,  0.3393,  0.6426,  ..., -2.2936,  1.4217, -0.4687])"
      ]
     },
     "execution_count": 15,
     "metadata": {},
     "output_type": "execute_result"
    }
   ],
   "source": [
    "train.dataset.dataset.y.flatten()"
   ]
  },
  {
   "cell_type": "code",
   "execution_count": 16,
   "id": "20762f270b60232c",
   "metadata": {
    "ExecuteTime": {
     "end_time": "2025-10-30T02:30:30.071287Z",
     "start_time": "2025-10-30T02:30:30.003245Z"
    },
    "tags": []
   },
   "outputs": [
    {
     "data": {
      "text/html": [
       "<div>\n",
       "<style scoped>\n",
       "    .dataframe tbody tr th:only-of-type {\n",
       "        vertical-align: middle;\n",
       "    }\n",
       "\n",
       "    .dataframe tbody tr th {\n",
       "        vertical-align: top;\n",
       "    }\n",
       "\n",
       "    .dataframe thead th {\n",
       "        text-align: right;\n",
       "    }\n",
       "</style>\n",
       "<table border=\"1\" class=\"dataframe\">\n",
       "  <thead>\n",
       "    <tr style=\"text-align: right;\">\n",
       "      <th></th>\n",
       "      <th>y_true</th>\n",
       "      <th>y_optimal</th>\n",
       "      <th>lasso</th>\n",
       "      <th>lr</th>\n",
       "    </tr>\n",
       "  </thead>\n",
       "  <tbody>\n",
       "    <tr>\n",
       "      <th>y_true</th>\n",
       "      <td>1.000000</td>\n",
       "      <td>0.048258</td>\n",
       "      <td>0.048792</td>\n",
       "      <td>0.049184</td>\n",
       "    </tr>\n",
       "    <tr>\n",
       "      <th>y_optimal</th>\n",
       "      <td>0.048258</td>\n",
       "      <td>1.000000</td>\n",
       "      <td>0.986227</td>\n",
       "      <td>0.981179</td>\n",
       "    </tr>\n",
       "    <tr>\n",
       "      <th>lasso</th>\n",
       "      <td>0.048792</td>\n",
       "      <td>0.986227</td>\n",
       "      <td>1.000000</td>\n",
       "      <td>0.992032</td>\n",
       "    </tr>\n",
       "    <tr>\n",
       "      <th>lr</th>\n",
       "      <td>0.049184</td>\n",
       "      <td>0.981179</td>\n",
       "      <td>0.992032</td>\n",
       "      <td>1.000000</td>\n",
       "    </tr>\n",
       "  </tbody>\n",
       "</table>\n",
       "</div>"
      ],
      "text/plain": [
       "             y_true  y_optimal     lasso        lr\n",
       "y_true     1.000000   0.048258  0.048792  0.049184\n",
       "y_optimal  0.048258   1.000000  0.986227  0.981179\n",
       "lasso      0.048792   0.986227  1.000000  0.992032\n",
       "lr         0.049184   0.981179  0.992032  1.000000"
      ]
     },
     "execution_count": 16,
     "metadata": {},
     "output_type": "execute_result"
    }
   ],
   "source": [
    "comp.correl(train, z.y_pred_optimal[train.dataset.indices].flatten())"
   ]
  },
  {
   "cell_type": "code",
   "execution_count": 17,
   "id": "15956613-31dc-49be-8e87-b9761b36cdc5",
   "metadata": {
    "ExecuteTime": {
     "end_time": "2025-10-30T02:30:30.071287Z",
     "start_time": "2025-10-30T02:30:30.003245Z"
    },
    "tags": []
   },
   "outputs": [
    {
     "data": {
      "text/html": [
       "<div>\n",
       "<style scoped>\n",
       "    .dataframe tbody tr th:only-of-type {\n",
       "        vertical-align: middle;\n",
       "    }\n",
       "\n",
       "    .dataframe tbody tr th {\n",
       "        vertical-align: top;\n",
       "    }\n",
       "\n",
       "    .dataframe thead th {\n",
       "        text-align: right;\n",
       "    }\n",
       "</style>\n",
       "<table border=\"1\" class=\"dataframe\">\n",
       "  <thead>\n",
       "    <tr style=\"text-align: right;\">\n",
       "      <th></th>\n",
       "      <th>y_true</th>\n",
       "      <th>y_optimal</th>\n",
       "      <th>lasso</th>\n",
       "      <th>lr</th>\n",
       "    </tr>\n",
       "  </thead>\n",
       "  <tbody>\n",
       "    <tr>\n",
       "      <th>y_true</th>\n",
       "      <td>1.000000</td>\n",
       "      <td>0.006560</td>\n",
       "      <td>0.047635</td>\n",
       "      <td>0.048061</td>\n",
       "    </tr>\n",
       "    <tr>\n",
       "      <th>y_optimal</th>\n",
       "      <td>0.006560</td>\n",
       "      <td>1.000000</td>\n",
       "      <td>0.003623</td>\n",
       "      <td>0.003117</td>\n",
       "    </tr>\n",
       "    <tr>\n",
       "      <th>lasso</th>\n",
       "      <td>0.047635</td>\n",
       "      <td>0.003623</td>\n",
       "      <td>1.000000</td>\n",
       "      <td>0.992038</td>\n",
       "    </tr>\n",
       "    <tr>\n",
       "      <th>lr</th>\n",
       "      <td>0.048061</td>\n",
       "      <td>0.003117</td>\n",
       "      <td>0.992038</td>\n",
       "      <td>1.000000</td>\n",
       "    </tr>\n",
       "  </tbody>\n",
       "</table>\n",
       "</div>"
      ],
      "text/plain": [
       "             y_true  y_optimal     lasso        lr\n",
       "y_true     1.000000   0.006560  0.047635  0.048061\n",
       "y_optimal  0.006560   1.000000  0.003623  0.003117\n",
       "lasso      0.047635   0.003623  1.000000  0.992038\n",
       "lr         0.048061   0.003117  0.992038  1.000000"
      ]
     },
     "execution_count": 17,
     "metadata": {},
     "output_type": "execute_result"
    }
   ],
   "source": [
    "comp.correl(test, z.y_pred_optimal[train.dataset.indices].flatten())"
   ]
  },
  {
   "cell_type": "markdown",
   "id": "c438622e3b5a2e57",
   "metadata": {},
   "source": [
    "### Torch benchmarks"
   ]
  },
  {
   "cell_type": "code",
   "execution_count": 18,
   "id": "dba4e5ef9d5ef442",
   "metadata": {
    "ExecuteTime": {
     "end_time": "2025-10-30T02:40:42.125443Z",
     "start_time": "2025-10-30T02:40:42.075428Z"
    },
    "tags": []
   },
   "outputs": [
    {
     "data": {
      "text/plain": [
       "(64, 64)"
      ]
     },
     "execution_count": 18,
     "metadata": {},
     "output_type": "execute_result"
    }
   ],
   "source": [
    "train.batch_size, test.batch_size"
   ]
  },
  {
   "cell_type": "code",
   "execution_count": 19,
   "id": "16424be4d6a4dd43",
   "metadata": {
    "ExecuteTime": {
     "end_time": "2025-10-30T02:42:47.870717Z",
     "start_time": "2025-10-30T02:42:47.816588Z"
    },
    "tags": []
   },
   "outputs": [],
   "source": [
    "from torch import nn\n",
    "device = 'mps'\n",
    "\n",
    "class NeuralNetwork(nn.Module):\n",
    "    def __init__(self, n_ts, n_f):\n",
    "        super().__init__()\n",
    "        self.flatten = nn.Flatten()\n",
    "        self.linear_relu_stack = nn.Sequential(\n",
    "            nn.Linear(n_ts*n_f, 512),\n",
    "            nn.ReLU(),\n",
    "            nn.Linear(512, 512),\n",
    "            nn.ReLU(),\n",
    "            nn.Linear(512, n_ts),\n",
    "        )\n",
    "\n",
    "    def forward(self, x):\n",
    "        x = self.flatten(x)\n",
    "        pred = self.linear_relu_stack(x)\n",
    "        return pred"
   ]
  },
  {
   "cell_type": "code",
   "execution_count": 20,
   "id": "4035cbfc-3b9e-4acf-845c-b31e3c93cb0a",
   "metadata": {
    "tags": []
   },
   "outputs": [],
   "source": [
    "m = NeuralNetwork(n_ts=100, n_f=10).to(device)\n",
    "optimizer = torch.optim.Adam(m.parameters(), lr=0.001)\n",
    "\n",
    "\n",
    "model_torch = torch_benchmarks.TorchWrapper(m, optimizer=optimizer)"
   ]
  },
  {
   "cell_type": "code",
   "execution_count": 21,
   "id": "a12759f7-9af0-40a6-93bc-a563af8d890f",
   "metadata": {
    "tags": []
   },
   "outputs": [],
   "source": [
    "model_torch.fit(train, test, epochs=20)"
   ]
  },
  {
   "cell_type": "code",
   "execution_count": 22,
   "id": "bcea417e-2cd8-4261-b2d3-5fb1ff5e959f",
   "metadata": {
    "tags": []
   },
   "outputs": [
    {
     "data": {
      "image/png": "[encoded data removed]",
      "text/plain": [
       "<Figure size 640x480 with 1 Axes>"
      ]
     },
     "metadata": {},
     "output_type": "display_data"
    }
   ],
   "source": [
    "pd.concat([pd.Series(model_torch.train_loss).rename('train_loss'), pd.Series(model_torch.test_loss).rename('test_loss')], axis=1).plot();"
   ]
  },
  {
   "cell_type": "code",
   "execution_count": 23,
   "id": "98a5403f-d84e-4dd5-bf03-9a7b6388edfb",
   "metadata": {
    "ExecuteTime": {
     "end_time": "2025-10-30T02:30:29.683303Z",
     "start_time": "2025-10-30T02:30:29.662206Z"
    },
    "tags": []
   },
   "outputs": [],
   "source": [
    "comp = benchmark_comparison.Comparator(models=[lasso, lr, model_torch], model_names=['lasso', 'lr', 'nn'])"
   ]
  },
  {
   "cell_type": "code",
   "execution_count": 24,
   "id": "166ac7b5-ee37-45fb-aa47-ec5460e153ce",
   "metadata": {
    "tags": []
   },
   "outputs": [
    {
     "data": {
      "text/html": [
       "<div>\n",
       "<style scoped>\n",
       "    .dataframe tbody tr th:only-of-type {\n",
       "        vertical-align: middle;\n",
       "    }\n",
       "\n",
       "    .dataframe tbody tr th {\n",
       "        vertical-align: top;\n",
       "    }\n",
       "\n",
       "    .dataframe thead th {\n",
       "        text-align: right;\n",
       "    }\n",
       "</style>\n",
       "<table border=\"1\" class=\"dataframe\">\n",
       "  <thead>\n",
       "    <tr style=\"text-align: right;\">\n",
       "      <th></th>\n",
       "      <th>y_true</th>\n",
       "      <th>y_optimal</th>\n",
       "      <th>lasso</th>\n",
       "      <th>lr</th>\n",
       "      <th>nn</th>\n",
       "    </tr>\n",
       "  </thead>\n",
       "  <tbody>\n",
       "    <tr>\n",
       "      <th>y_true</th>\n",
       "      <td>1.000000</td>\n",
       "      <td>0.048258</td>\n",
       "      <td>0.048792</td>\n",
       "      <td>0.049184</td>\n",
       "      <td>0.994971</td>\n",
       "    </tr>\n",
       "    <tr>\n",
       "      <th>y_optimal</th>\n",
       "      <td>0.048258</td>\n",
       "      <td>1.000000</td>\n",
       "      <td>0.986227</td>\n",
       "      <td>0.981179</td>\n",
       "      <td>0.048683</td>\n",
       "    </tr>\n",
       "    <tr>\n",
       "      <th>lasso</th>\n",
       "      <td>0.048792</td>\n",
       "      <td>0.986227</td>\n",
       "      <td>1.000000</td>\n",
       "      <td>0.992032</td>\n",
       "      <td>0.049276</td>\n",
       "    </tr>\n",
       "    <tr>\n",
       "      <th>lr</th>\n",
       "      <td>0.049184</td>\n",
       "      <td>0.981179</td>\n",
       "      <td>0.992032</td>\n",
       "      <td>1.000000</td>\n",
       "      <td>0.049660</td>\n",
       "    </tr>\n",
       "    <tr>\n",
       "      <th>nn</th>\n",
       "      <td>0.994971</td>\n",
       "      <td>0.048683</td>\n",
       "      <td>0.049276</td>\n",
       "      <td>0.049660</td>\n",
       "      <td>1.000000</td>\n",
       "    </tr>\n",
       "  </tbody>\n",
       "</table>\n",
       "</div>"
      ],
      "text/plain": [
       "             y_true  y_optimal     lasso        lr        nn\n",
       "y_true     1.000000   0.048258  0.048792  0.049184  0.994971\n",
       "y_optimal  0.048258   1.000000  0.986227  0.981179  0.048683\n",
       "lasso      0.048792   0.986227  1.000000  0.992032  0.049276\n",
       "lr         0.049184   0.981179  0.992032  1.000000  0.049660\n",
       "nn         0.994971   0.048683  0.049276  0.049660  1.000000"
      ]
     },
     "execution_count": 24,
     "metadata": {},
     "output_type": "execute_result"
    }
   ],
   "source": [
    "comp.correl(train, z.y_pred_optimal[train.dataset.indices].flatten())"
   ]
  },
  {
   "cell_type": "code",
   "execution_count": 25,
   "id": "0b6c4074-0c78-4843-ba35-c4381c5a8d02",
   "metadata": {
    "tags": []
   },
   "outputs": [
    {
     "data": {
      "text/html": [
       "<div>\n",
       "<style scoped>\n",
       "    .dataframe tbody tr th:only-of-type {\n",
       "        vertical-align: middle;\n",
       "    }\n",
       "\n",
       "    .dataframe tbody tr th {\n",
       "        vertical-align: top;\n",
       "    }\n",
       "\n",
       "    .dataframe thead th {\n",
       "        text-align: right;\n",
       "    }\n",
       "</style>\n",
       "<table border=\"1\" class=\"dataframe\">\n",
       "  <thead>\n",
       "    <tr style=\"text-align: right;\">\n",
       "      <th></th>\n",
       "      <th>y_true</th>\n",
       "      <th>y_optimal</th>\n",
       "      <th>lasso</th>\n",
       "      <th>lr</th>\n",
       "      <th>nn</th>\n",
       "    </tr>\n",
       "  </thead>\n",
       "  <tbody>\n",
       "    <tr>\n",
       "      <th>y_true</th>\n",
       "      <td>1.000000</td>\n",
       "      <td>0.049249</td>\n",
       "      <td>0.047635</td>\n",
       "      <td>0.048061</td>\n",
       "      <td>0.017445</td>\n",
       "    </tr>\n",
       "    <tr>\n",
       "      <th>y_optimal</th>\n",
       "      <td>0.049249</td>\n",
       "      <td>1.000000</td>\n",
       "      <td>0.985925</td>\n",
       "      <td>0.981002</td>\n",
       "      <td>0.032595</td>\n",
       "    </tr>\n",
       "    <tr>\n",
       "      <th>lasso</th>\n",
       "      <td>0.047635</td>\n",
       "      <td>0.985925</td>\n",
       "      <td>1.000000</td>\n",
       "      <td>0.992038</td>\n",
       "      <td>0.033638</td>\n",
       "    </tr>\n",
       "    <tr>\n",
       "      <th>lr</th>\n",
       "      <td>0.048061</td>\n",
       "      <td>0.981002</td>\n",
       "      <td>0.992038</td>\n",
       "      <td>1.000000</td>\n",
       "      <td>0.035618</td>\n",
       "    </tr>\n",
       "    <tr>\n",
       "      <th>nn</th>\n",
       "      <td>0.017445</td>\n",
       "      <td>0.032595</td>\n",
       "      <td>0.033638</td>\n",
       "      <td>0.035618</td>\n",
       "      <td>1.000000</td>\n",
       "    </tr>\n",
       "  </tbody>\n",
       "</table>\n",
       "</div>"
      ],
      "text/plain": [
       "             y_true  y_optimal     lasso        lr        nn\n",
       "y_true     1.000000   0.049249  0.047635  0.048061  0.017445\n",
       "y_optimal  0.049249   1.000000  0.985925  0.981002  0.032595\n",
       "lasso      0.047635   0.985925  1.000000  0.992038  0.033638\n",
       "lr         0.048061   0.981002  0.992038  1.000000  0.035618\n",
       "nn         0.017445   0.032595  0.033638  0.035618  1.000000"
      ]
     },
     "execution_count": 25,
     "metadata": {},
     "output_type": "execute_result"
    }
   ],
   "source": [
    "comp.correl(test, z.y_pred_optimal[test.dataset.indices].flatten())"
   ]
  },
  {
   "cell_type": "code",
   "execution_count": null,
   "id": "69f5c5af6bd3311a",
   "metadata": {},
   "outputs": [],
   "source": []
  }
 ],
 "metadata": {
  "kernelspec": {
   "display_name": "Python 3 (ipykernel)",
   "language": "python",
   "name": "python3"
  },
  "language_info": {
   "codemirror_mode": {
    "name": "ipython",
    "version": 3
   },
   "file_extension": ".py",
   "mimetype": "text/x-python",
   "name": "python",
   "nbconvert_exporter": "python",
   "pygments_lexer": "ipython3",
   "version": "3.10.14"
  }
 },
 "nbformat": 4,
 "nbformat_minor": 5
}
